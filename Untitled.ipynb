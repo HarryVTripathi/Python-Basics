{
 "cells": [
  {
   "cell_type": "code",
   "execution_count": 8,
   "metadata": {},
   "outputs": [],
   "source": [
    "class Solution:\n",
    "    def getCount(self, S, n, start, end, cent_sum):\n",
    "        if cent_sum > n:\n",
    "            self.memo[start][cent_sum] = -1\n",
    "            return -1\n",
    "        \n",
    "        if cent_sum == n:\n",
    "            self.ways += 1\n",
    "            self.memo[start][cent_sum] = 1\n",
    "            return 1\n",
    "        \n",
    "        for i in range(start, end):\n",
    "            next_sum = cent_sum + S[i]\n",
    "    \n",
    "            if next_sum < n:\n",
    "                print(\"chala\")\n",
    "                if not self.memo[start][next_sum]:\n",
    "                    res = self.getCount(S, n, i, end, next_sum)\n",
    "                    self.memo[start][next_sum] = res\n",
    "\n",
    "                elif self.memo[start][next_sum] == 1:\n",
    "                    self.ways += 1\n",
    "\n",
    "                else:\n",
    "                    pass\n",
    "    \n",
    "    def count(self, S, m, n):\n",
    "        self.ways = 0\n",
    "        self.memo = [[0 for i in range(n)] for i in range(n)]\n",
    "        self.getCount(S, n, 0, m, 0)\n",
    "        \n",
    "        return self.ways"
   ]
  },
  {
   "cell_type": "code",
   "execution_count": 9,
   "metadata": {},
   "outputs": [
    {
     "name": "stdout",
     "output_type": "stream",
     "text": [
      "chala\n",
      "chala\n",
      "chala\n",
      "chala\n",
      "chala\n",
      "chala\n"
     ]
    },
    {
     "data": {
      "text/plain": [
       "0"
      ]
     },
     "execution_count": 9,
     "metadata": {},
     "output_type": "execute_result"
    }
   ],
   "source": [
    "Solution().count([1, 2, 3], 3, 4)"
   ]
  },
  {
   "cell_type": "code",
   "execution_count": null,
   "metadata": {},
   "outputs": [],
   "source": [
    "class Solution:\n",
    "    def getCount(self, S, n, start, end, cent_sum):\n",
    "        if cent_sum > n:\n",
    "            return False\n",
    "            \n",
    "        # if self.memo[start][cent_sum]:\n",
    "        #     return self.memo[start][cent_sum]\n",
    "        \n",
    "        if cent_sum == n:\n",
    "            self.ways += 1\n",
    "            self.memo[start][cent_sum] = 1\n",
    "            return True\n",
    "        \n",
    "        for i in range(start, end):\n",
    "            self.getCount(S, n, i, end, cent_sum + S[i])\n",
    "    \n",
    "    def count(self, S, m, n):\n",
    "        self.ways = 0\n",
    "        self.memo = [[0 for i in range(n+1)] for i in range(n+1)]\n",
    "        self.getCount(S, n, 0, m, 0)\n",
    "        \n",
    "        return self.ways"
   ]
  },
  {
   "cell_type": "code",
   "execution_count": 10,
   "metadata": {},
   "outputs": [
    {
     "data": {
      "text/plain": [
       "'Start: 10, cent_sum: 20 '"
      ]
     },
     "execution_count": 10,
     "metadata": {},
     "output_type": "execute_result"
    }
   ],
   "source": [
    "start = 10\n",
    "cent_sum = 20\n",
    "f\"Start: {start}, cent_sum: {cent_sum} \""
   ]
  },
  {
   "cell_type": "code",
   "execution_count": 4,
   "metadata": {},
   "outputs": [
    {
     "data": {
      "text/plain": [
       "[9, 8, 7, 6, 5, 4, 3, 2, 1, 0]"
      ]
     },
     "execution_count": 4,
     "metadata": {},
     "output_type": "execute_result"
    }
   ],
   "source": [
    "list(range(12-3, -1, -1))"
   ]
  },
  {
   "cell_type": "code",
   "execution_count": 5,
   "metadata": {},
   "outputs": [
    {
     "data": {
      "text/plain": [
       "[0]"
      ]
     },
     "execution_count": 5,
     "metadata": {},
     "output_type": "execute_result"
    }
   ],
   "source": [
    "a = []\n",
    "a.append(0)\n",
    "a"
   ]
  },
  {
   "cell_type": "code",
   "execution_count": 12,
   "metadata": {},
   "outputs": [
    {
     "data": {
      "text/plain": [
       "['G', 'a', 'g', 'g', 'a', 'G']"
      ]
     },
     "execution_count": 12,
     "metadata": {},
     "output_type": "execute_result"
    }
   ],
   "source": [
    "str = \"GaggaG\"\n",
    "chars = list(str)\n",
    "chars"
   ]
  },
  {
   "cell_type": "code",
   "execution_count": 21,
   "metadata": {},
   "outputs": [],
   "source": [
    "s = set(str)\n",
    "s\n",
    "s.add('g')"
   ]
  },
  {
   "cell_type": "code",
   "execution_count": 19,
   "metadata": {},
   "outputs": [
    {
     "data": {
      "text/plain": [
       "'gaG'"
      ]
     },
     "execution_count": 19,
     "metadata": {},
     "output_type": "execute_result"
    }
   ],
   "source": [
    "''.join(list(s))"
   ]
  },
  {
   "cell_type": "code",
   "execution_count": 1,
   "metadata": {},
   "outputs": [],
   "source": [
    "n = 10"
   ]
  },
  {
   "cell_type": "code",
   "execution_count": 8,
   "metadata": {},
   "outputs": [],
   "source": [
    "fact = [0 for i in range(n+1)]\n",
    "fact[2] = 1\n",
    "\n",
    "for i in range(3, n+1):\n",
    "    fact[i] = (i * (i-1)) // 2"
   ]
  },
  {
   "cell_type": "code",
   "execution_count": 9,
   "metadata": {},
   "outputs": [
    {
     "data": {
      "text/plain": [
       "[0, 0, 1, 3, 6, 10, 15, 21, 28, 36, 45]"
      ]
     },
     "execution_count": 9,
     "metadata": {},
     "output_type": "execute_result"
    }
   ],
   "source": [
    "fact"
   ]
  },
  {
   "cell_type": "code",
   "execution_count": 1,
   "metadata": {},
   "outputs": [],
   "source": [
    "a = [\n",
    "    10\n",
    "]"
   ]
  },
  {
   "cell_type": "code",
   "execution_count": 6,
   "metadata": {},
   "outputs": [],
   "source": [
    "def get(Matrix, r, c):\n",
    "    res = 0\n",
    "    try:\n",
    "        res = Matrix[r][c]\n",
    "    except:\n",
    "        # print(\"Error\")\n",
    "        IndexError\n",
    "    finally:\n",
    "        return res"
   ]
  },
  {
   "cell_type": "code",
   "execution_count": 7,
   "metadata": {},
   "outputs": [],
   "source": [
    "M = [[348, 391], [618, 193]]"
   ]
  },
  {
   "cell_type": "code",
   "execution_count": 8,
   "metadata": {},
   "outputs": [
    {
     "data": {
      "text/plain": [
       "193"
      ]
     },
     "execution_count": 8,
     "metadata": {},
     "output_type": "execute_result"
    }
   ],
   "source": [
    "get(M,1,1)"
   ]
  },
  {
   "cell_type": "code",
   "execution_count": 9,
   "metadata": {},
   "outputs": [],
   "source": [
    "M = [[966, 1009], [618, 193]]"
   ]
  },
  {
   "cell_type": "code",
   "execution_count": 11,
   "metadata": {},
   "outputs": [
    {
     "data": {
      "text/plain": [
       "1009"
      ]
     },
     "execution_count": 11,
     "metadata": {},
     "output_type": "execute_result"
    }
   ],
   "source": [
    "max(max(M))"
   ]
  },
  {
   "cell_type": "code",
   "execution_count": 12,
   "metadata": {},
   "outputs": [],
   "source": [
    "arr = \"548 944 524 358 695 822 718 212 352 123 175 475 872 744 367 998 334 852 654 972 186 631 628 492 674 459 760 404 582 913 323 129 208 198 838 903 19 908 114 370 30 640 196 901 383 915 250 68 766 904 39 303 886 18 795 911 476 906 314 409 818 636 889 25 185 727 927 204 986 392 925 15 383 121 268 117 35 517 184 152 772 574 807 658 592 953 568 419 858 882 828 675 869 716 51 54 794 330 609 779 721 885 794 456 5 413 572 391 929 756 895 53 329 701 710 272 653 629 691 862 862 518 536 83 585 586 488 379 915 96 509 988 980 302 795 337 714 366 79 995 473 973 399 154 25 108 425 29 88 467 890 302 984 777 384 921 715 871 299 981 966 807 968 297 461 114 633 526 480 64 872 304 36 270 457 413 729 234 793 817 700 683 118 36 811 853 956 525 723 254 506 40 412 825 336 224 939 321 750 418 384 973 73 771 243 530 535 971 115 328 139 814 362 608 849 172 460 804 697 182 409 202 221 173 26 909 396 316 229 497 85 964 470 158 86 712 687 621 34 801 300 525 966 661 132 167 832 944 970 528 125 731 729 698 255 107 606 650 422 186 499 859 501 968 16 586 31 54 558 416 206 857 940 171 517 424 337 349 367 659 876 491 741 957 540 995 415 497 996 188 34 494 46 534 461 413 472 843 466 29 259 671 886 198 194 754 973 530 102 339 540 330 182 280 638 721 626 404 218 622 943 251 115 341 137 928 753 608 770 219 636 380 241 873 930 434 627 902 316 80 241 855 761 422 487 750 142 464 153 711 85 448 314 552 788 450 831 540 57 600 758 44 332 999 917 261 784 895 514 99 974 754 306 87 527 144 836 21 607 341 731 44 788 396 595 575 845 425 466 253 376 224 297 707 574 213 319 357 459 833\".split(\" \")"
   ]
  },
  {
   "cell_type": "code",
   "execution_count": 20,
   "metadata": {},
   "outputs": [],
   "source": [
    "import numpy as np"
   ]
  },
  {
   "cell_type": "code",
   "execution_count": 29,
   "metadata": {},
   "outputs": [],
   "source": [
    "arr = np.array(arr)"
   ]
  },
  {
   "cell_type": "code",
   "execution_count": 32,
   "metadata": {},
   "outputs": [],
   "source": [
    "arr = np.reshape(arr, (20, 20))"
   ]
  },
  {
   "cell_type": "code",
   "execution_count": 31,
   "metadata": {},
   "outputs": [
    {
     "data": {
      "text/plain": [
       "[['548',\n",
       "  '944',\n",
       "  '524',\n",
       "  '358',\n",
       "  '695',\n",
       "  '822',\n",
       "  '718',\n",
       "  '212',\n",
       "  '352',\n",
       "  '123',\n",
       "  '175',\n",
       "  '475',\n",
       "  '872',\n",
       "  '744',\n",
       "  '367',\n",
       "  '998',\n",
       "  '334',\n",
       "  '852',\n",
       "  '654',\n",
       "  '972'],\n",
       " ['186',\n",
       "  '631',\n",
       "  '628',\n",
       "  '492',\n",
       "  '674',\n",
       "  '459',\n",
       "  '760',\n",
       "  '404',\n",
       "  '582',\n",
       "  '913',\n",
       "  '323',\n",
       "  '129',\n",
       "  '208',\n",
       "  '198',\n",
       "  '838',\n",
       "  '903',\n",
       "  '19',\n",
       "  '908',\n",
       "  '114',\n",
       "  '370'],\n",
       " ['30',\n",
       "  '640',\n",
       "  '196',\n",
       "  '901',\n",
       "  '383',\n",
       "  '915',\n",
       "  '250',\n",
       "  '68',\n",
       "  '766',\n",
       "  '904',\n",
       "  '39',\n",
       "  '303',\n",
       "  '886',\n",
       "  '18',\n",
       "  '795',\n",
       "  '911',\n",
       "  '476',\n",
       "  '906',\n",
       "  '314',\n",
       "  '409'],\n",
       " ['818',\n",
       "  '636',\n",
       "  '889',\n",
       "  '25',\n",
       "  '185',\n",
       "  '727',\n",
       "  '927',\n",
       "  '204',\n",
       "  '986',\n",
       "  '392',\n",
       "  '925',\n",
       "  '15',\n",
       "  '383',\n",
       "  '121',\n",
       "  '268',\n",
       "  '117',\n",
       "  '35',\n",
       "  '517',\n",
       "  '184',\n",
       "  '152'],\n",
       " ['772',\n",
       "  '574',\n",
       "  '807',\n",
       "  '658',\n",
       "  '592',\n",
       "  '953',\n",
       "  '568',\n",
       "  '419',\n",
       "  '858',\n",
       "  '882',\n",
       "  '828',\n",
       "  '675',\n",
       "  '869',\n",
       "  '716',\n",
       "  '51',\n",
       "  '54',\n",
       "  '794',\n",
       "  '330',\n",
       "  '609',\n",
       "  '779'],\n",
       " ['721',\n",
       "  '885',\n",
       "  '794',\n",
       "  '456',\n",
       "  '5',\n",
       "  '413',\n",
       "  '572',\n",
       "  '391',\n",
       "  '929',\n",
       "  '756',\n",
       "  '895',\n",
       "  '53',\n",
       "  '329',\n",
       "  '701',\n",
       "  '710',\n",
       "  '272',\n",
       "  '653',\n",
       "  '629',\n",
       "  '691',\n",
       "  '862'],\n",
       " ['862',\n",
       "  '518',\n",
       "  '536',\n",
       "  '83',\n",
       "  '585',\n",
       "  '586',\n",
       "  '488',\n",
       "  '379',\n",
       "  '915',\n",
       "  '96',\n",
       "  '509',\n",
       "  '988',\n",
       "  '980',\n",
       "  '302',\n",
       "  '795',\n",
       "  '337',\n",
       "  '714',\n",
       "  '366',\n",
       "  '79',\n",
       "  '995'],\n",
       " ['473',\n",
       "  '973',\n",
       "  '399',\n",
       "  '154',\n",
       "  '25',\n",
       "  '108',\n",
       "  '425',\n",
       "  '29',\n",
       "  '88',\n",
       "  '467',\n",
       "  '890',\n",
       "  '302',\n",
       "  '984',\n",
       "  '777',\n",
       "  '384',\n",
       "  '921',\n",
       "  '715',\n",
       "  '871',\n",
       "  '299',\n",
       "  '981'],\n",
       " ['966',\n",
       "  '807',\n",
       "  '968',\n",
       "  '297',\n",
       "  '461',\n",
       "  '114',\n",
       "  '633',\n",
       "  '526',\n",
       "  '480',\n",
       "  '64',\n",
       "  '872',\n",
       "  '304',\n",
       "  '36',\n",
       "  '270',\n",
       "  '457',\n",
       "  '413',\n",
       "  '729',\n",
       "  '234',\n",
       "  '793',\n",
       "  '817'],\n",
       " ['700',\n",
       "  '683',\n",
       "  '118',\n",
       "  '36',\n",
       "  '811',\n",
       "  '853',\n",
       "  '956',\n",
       "  '525',\n",
       "  '723',\n",
       "  '254',\n",
       "  '506',\n",
       "  '40',\n",
       "  '412',\n",
       "  '825',\n",
       "  '336',\n",
       "  '224',\n",
       "  '939',\n",
       "  '321',\n",
       "  '750',\n",
       "  '418'],\n",
       " ['384',\n",
       "  '973',\n",
       "  '73',\n",
       "  '771',\n",
       "  '243',\n",
       "  '530',\n",
       "  '535',\n",
       "  '971',\n",
       "  '115',\n",
       "  '328',\n",
       "  '139',\n",
       "  '814',\n",
       "  '362',\n",
       "  '608',\n",
       "  '849',\n",
       "  '172',\n",
       "  '460',\n",
       "  '804',\n",
       "  '697',\n",
       "  '182'],\n",
       " ['409',\n",
       "  '202',\n",
       "  '221',\n",
       "  '173',\n",
       "  '26',\n",
       "  '909',\n",
       "  '396',\n",
       "  '316',\n",
       "  '229',\n",
       "  '497',\n",
       "  '85',\n",
       "  '964',\n",
       "  '470',\n",
       "  '158',\n",
       "  '86',\n",
       "  '712',\n",
       "  '687',\n",
       "  '621',\n",
       "  '34',\n",
       "  '801'],\n",
       " ['300',\n",
       "  '525',\n",
       "  '966',\n",
       "  '661',\n",
       "  '132',\n",
       "  '167',\n",
       "  '832',\n",
       "  '944',\n",
       "  '970',\n",
       "  '528',\n",
       "  '125',\n",
       "  '731',\n",
       "  '729',\n",
       "  '698',\n",
       "  '255',\n",
       "  '107',\n",
       "  '606',\n",
       "  '650',\n",
       "  '422',\n",
       "  '186'],\n",
       " ['499',\n",
       "  '859',\n",
       "  '501',\n",
       "  '968',\n",
       "  '16',\n",
       "  '586',\n",
       "  '31',\n",
       "  '54',\n",
       "  '558',\n",
       "  '416',\n",
       "  '206',\n",
       "  '857',\n",
       "  '940',\n",
       "  '171',\n",
       "  '517',\n",
       "  '424',\n",
       "  '337',\n",
       "  '349',\n",
       "  '367',\n",
       "  '659'],\n",
       " ['876',\n",
       "  '491',\n",
       "  '741',\n",
       "  '957',\n",
       "  '540',\n",
       "  '995',\n",
       "  '415',\n",
       "  '497',\n",
       "  '996',\n",
       "  '188',\n",
       "  '34',\n",
       "  '494',\n",
       "  '46',\n",
       "  '534',\n",
       "  '461',\n",
       "  '413',\n",
       "  '472',\n",
       "  '843',\n",
       "  '466',\n",
       "  '29'],\n",
       " ['259',\n",
       "  '671',\n",
       "  '886',\n",
       "  '198',\n",
       "  '194',\n",
       "  '754',\n",
       "  '973',\n",
       "  '530',\n",
       "  '102',\n",
       "  '339',\n",
       "  '540',\n",
       "  '330',\n",
       "  '182',\n",
       "  '280',\n",
       "  '638',\n",
       "  '721',\n",
       "  '626',\n",
       "  '404',\n",
       "  '218',\n",
       "  '622'],\n",
       " ['943',\n",
       "  '251',\n",
       "  '115',\n",
       "  '341',\n",
       "  '137',\n",
       "  '928',\n",
       "  '753',\n",
       "  '608',\n",
       "  '770',\n",
       "  '219',\n",
       "  '636',\n",
       "  '380',\n",
       "  '241',\n",
       "  '873',\n",
       "  '930',\n",
       "  '434',\n",
       "  '627',\n",
       "  '902',\n",
       "  '316',\n",
       "  '80'],\n",
       " ['241',\n",
       "  '855',\n",
       "  '761',\n",
       "  '422',\n",
       "  '487',\n",
       "  '750',\n",
       "  '142',\n",
       "  '464',\n",
       "  '153',\n",
       "  '711',\n",
       "  '85',\n",
       "  '448',\n",
       "  '314',\n",
       "  '552',\n",
       "  '788',\n",
       "  '450',\n",
       "  '831',\n",
       "  '540',\n",
       "  '57',\n",
       "  '600'],\n",
       " ['758',\n",
       "  '44',\n",
       "  '332',\n",
       "  '999',\n",
       "  '917',\n",
       "  '261',\n",
       "  '784',\n",
       "  '895',\n",
       "  '514',\n",
       "  '99',\n",
       "  '974',\n",
       "  '754',\n",
       "  '306',\n",
       "  '87',\n",
       "  '527',\n",
       "  '144',\n",
       "  '836',\n",
       "  '21',\n",
       "  '607',\n",
       "  '341'],\n",
       " ['731',\n",
       "  '44',\n",
       "  '788',\n",
       "  '396',\n",
       "  '595',\n",
       "  '575',\n",
       "  '845',\n",
       "  '425',\n",
       "  '466',\n",
       "  '253',\n",
       "  '376',\n",
       "  '224',\n",
       "  '297',\n",
       "  '707',\n",
       "  '574',\n",
       "  '213',\n",
       "  '319',\n",
       "  '357',\n",
       "  '459',\n",
       "  '833']]"
      ]
     },
     "execution_count": 31,
     "metadata": {},
     "output_type": "execute_result"
    }
   ],
   "source": [
    "mat = [list(i) for i in list(arr)]"
   ]
  },
  {
   "cell_type": "markdown",
   "metadata": {},
   "source": [
    "<hr style=\"height:4px;color:#ff00ff;\">"
   ]
  },
  {
   "cell_type": "code",
   "execution_count": 12,
   "metadata": {},
   "outputs": [],
   "source": [
    "from collections import defaultdict\n",
    "\n",
    "def getSet(arr, n):\n",
    "    memo = defaultdict(lambda: defaultdict(lambda: 0))\n",
    "\n",
    "    for i in range(n):\n",
    "        a = arr[i]\n",
    "        for j in range(i+1, n):\n",
    "            an = arr[j]\n",
    "            d = arr[j] - arr[i]\n",
    "            memo[an][d] = a\n",
    "            pass\n",
    "        \n",
    "    di = { k: dict(v) for k,v in memo.items() }\n",
    "    print(di)\n",
    "    return memo"
   ]
  },
  {
   "cell_type": "code",
   "execution_count": 25,
   "metadata": {},
   "outputs": [
    {
     "name": "stdout",
     "output_type": "stream",
     "text": [
      "{3: {2: 1}, 6: {5: 1, 3: 3}, 7: {6: 1, 4: 3, 1: 6}, 9: {8: 1, 6: 3, 3: 6, 2: 7}, 12: {11: 1, 9: 3, 6: 6, 5: 7, 3: 9}, 15: {14: 1, 12: 3, 9: 6, 8: 7, 6: 9, 3: 12}, 16: {15: 1, 13: 3, 10: 6, 9: 7, 7: 9, 4: 12, 1: 15}, 19: {18: 1, 16: 3, 13: 6, 12: 7, 10: 9, 7: 12, 4: 15, 3: 16}, 22: {21: 1, 19: 3, 16: 6, 15: 7, 13: 9, 10: 12, 7: 15, 6: 16, 3: 19}, 25: {24: 1, 22: 3, 19: 6, 18: 7, 16: 9, 13: 12, 10: 15, 9: 16, 6: 19, 3: 22}}\n"
     ]
    }
   ],
   "source": [
    "memo = maxLenAP([1,3,6,7,9,12,15,16,19,22,25],11)"
   ]
  },
  {
   "cell_type": "code",
   "execution_count": 23,
   "metadata": {},
   "outputs": [
    {
     "data": {
      "text/plain": [
       "False"
      ]
     },
     "execution_count": 23,
     "metadata": {},
     "output_type": "execute_result"
    }
   ],
   "source": [
    "a = defaultdict(lambda: defaultdict(lambda: 0))\n",
    "a[2] = { 'a': 1 }\n",
    "k = a[2]\n",
    "not k"
   ]
  },
  {
   "cell_type": "code",
   "execution_count": 27,
   "metadata": {},
   "outputs": [
    {
     "name": "stdout",
     "output_type": "stream",
     "text": [
      "5\n"
     ]
    }
   ],
   "source": [
    "max_len = 0\n",
    "for an, diffs in list(memo.items()):\n",
    "    ap_len = 0\n",
    "\n",
    "    for diff, ax in diffs.items():\n",
    "        ap_len = 1\n",
    "\n",
    "        d = diff\n",
    "        ai = ax\n",
    "        \n",
    "        while memo[ai]:\n",
    "            ap_len += 1\n",
    "            ai = memo[ai][d]\n",
    "            \n",
    "        max_len = max(max_len, ap_len)\n",
    "    \n",
    "print(max_len)"
   ]
  },
  {
   "cell_type": "code",
   "execution_count": null,
   "metadata": {},
   "outputs": [],
   "source": []
  }
 ],
 "metadata": {
  "kernelspec": {
   "display_name": "Python 3",
   "language": "python",
   "name": "python3"
  },
  "language_info": {
   "codemirror_mode": {
    "name": "ipython",
    "version": 3
   },
   "file_extension": ".py",
   "mimetype": "text/x-python",
   "name": "python",
   "nbconvert_exporter": "python",
   "pygments_lexer": "ipython3",
   "version": "3.8.5"
  }
 },
 "nbformat": 4,
 "nbformat_minor": 4
}
