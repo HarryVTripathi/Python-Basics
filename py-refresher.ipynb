{
 "cells": [
  {
   "cell_type": "code",
   "execution_count": 5,
   "metadata": {},
   "outputs": [
    {
     "data": {
      "text/plain": [
       "'.god yzal a revo spmuj xof nworb kciuq A'"
      ]
     },
     "execution_count": 5,
     "metadata": {},
     "output_type": "execute_result"
    }
   ],
   "source": [
    "# Ninja technique of string reversal\n",
    "\n",
    "st1 = 'A quick brown fox jumps over a lazy dog.'\n",
    "st1[::-1]"
   ]
  },
  {
   "cell_type": "code",
   "execution_count": 8,
   "metadata": {},
   "outputs": [
    {
     "name": "stdout",
     "output_type": "stream",
     "text": [
      "140720992560960\n",
      "140720992560992\n"
     ]
    }
   ],
   "source": [
    "# All primitives are immutable\n",
    "a = 2\n",
    "print(id(a))\n",
    "\n",
    "a = 3\n",
    "print(id(a))"
   ]
  },
  {
   "cell_type": "code",
   "execution_count": 40,
   "metadata": {},
   "outputs": [],
   "source": [
    "class Solution:\n",
    "    \n",
    "    #Function to return the sorted array.\n",
    "    def min_heapify(self, a, start, end, i):\n",
    "        print(\"a(i): \", a[i])\n",
    "\n",
    "        left = 2 * i + 1 - start\n",
    "        right = 2 * (i + 1) - start\n",
    "        lowest = i\n",
    "        \n",
    "        if left < end and a[left] < a[lowest]:\n",
    "            lowest = left\n",
    "            \n",
    "        if right < end and a[right] < a[lowest]:\n",
    "            lowest = right\n",
    "            \n",
    "        print('a-lowest: ', a[lowest])\n",
    "        if i != lowest:\n",
    "            a[i], a[lowest] = a[lowest], a[i]\n",
    "            self.min_heapify(a, start, end, lowest)\n",
    "\n",
    "        print('A now: ', a)\n",
    "\n",
    "        \n",
    "    def build_minHeap(self, a, start, end):\n",
    "        for i in range(end - 1, start - 1, -1):\n",
    "            self.min_heapify(a, start, end, i)\n",
    "        \n",
    "    def nearlySorted(self, a, n, K):\n",
    "        b = a[::-1]\n",
    "        k = K + 1\n",
    "        for i in range(n):\n",
    "            start = i\n",
    "            end = i + k if i + k < n else n\n",
    "            print(f\"Start: {start}, end: {end}\")\n",
    "            self.build_minHeap(a, start, end)\n",
    "            \n",
    "            print(\"==============================\")\n",
    "            \n",
    "        return a"
   ]
  },
  {
   "cell_type": "code",
   "execution_count": 45,
   "metadata": {},
   "outputs": [
    {
     "name": "stdout",
     "output_type": "stream",
     "text": [
      "Hello 'scaler' and scaler\n"
     ]
    }
   ],
   "source": [
    "print(\"Hello {0!r} and {0!s}\".format('scaler', 'academy'))"
   ]
  },
  {
   "cell_type": "code",
   "execution_count": 46,
   "metadata": {},
   "outputs": [],
   "source": [
    "a = tuple([['a'], 'b'])"
   ]
  },
  {
   "cell_type": "code",
   "execution_count": 48,
   "metadata": {},
   "outputs": [],
   "source": [
    "a = (1,2,3,)"
   ]
  },
  {
   "cell_type": "code",
   "execution_count": 51,
   "metadata": {},
   "outputs": [
    {
     "ename": "AttributeError",
     "evalue": "'tuple' object has no attribute 'extend'",
     "output_type": "error",
     "traceback": [
      "\u001b[1;31m---------------------------------------------------------------------------\u001b[0m",
      "\u001b[1;31mAttributeError\u001b[0m                            Traceback (most recent call last)",
      "\u001b[1;32m<ipython-input-51-0bb62c14ea92>\u001b[0m in \u001b[0;36m<module>\u001b[1;34m\u001b[0m\n\u001b[1;32m----> 1\u001b[1;33m \u001b[0ma\u001b[0m\u001b[1;33m.\u001b[0m\u001b[0mextend\u001b[0m\u001b[1;33m(\u001b[0m\u001b[1;36m4\u001b[0m\u001b[1;33m)\u001b[0m\u001b[1;33m\u001b[0m\u001b[1;33m\u001b[0m\u001b[0m\n\u001b[0m",
      "\u001b[1;31mAttributeError\u001b[0m: 'tuple' object has no attribute 'extend'"
     ]
    }
   ],
   "source": [
    "a.extend(4)"
   ]
  },
  {
   "cell_type": "code",
   "execution_count": 52,
   "metadata": {},
   "outputs": [
    {
     "name": "stdout",
     "output_type": "stream",
     "text": [
      "{40, 10, '10', 50, 20, 60, 30}\n"
     ]
    }
   ],
   "source": [
    "set1 = {10, 20, 30, 40}\n",
    "set2 = {50, 20, \"10\", 60}\n",
    "set3 = set1.union(set2)\n",
    "print(set3)"
   ]
  },
  {
   "cell_type": "code",
   "execution_count": 53,
   "metadata": {},
   "outputs": [
    {
     "name": "stdout",
     "output_type": "stream",
     "text": [
      "0\n"
     ]
    }
   ],
   "source": [
    "dict1 = {\"name\": \"MB\", \"salary\": 126000}\n",
    "temp = dict1.get(\"age\", 0)\n",
    "print(temp)"
   ]
  },
  {
   "cell_type": "code",
   "execution_count": 55,
   "metadata": {},
   "outputs": [],
   "source": [
    "a = tuple([['a'], 'b'])"
   ]
  },
  {
   "cell_type": "code",
   "execution_count": 56,
   "metadata": {},
   "outputs": [],
   "source": [
    "a = tuple(['a', 'b', 'c', ['ad'], tuple('a')])"
   ]
  },
  {
   "cell_type": "code",
   "execution_count": 57,
   "metadata": {},
   "outputs": [],
   "source": [
    "a = tuple(['a', 'b', 'c', ['ad'], {'a':1}])"
   ]
  },
  {
   "cell_type": "code",
   "execution_count": 59,
   "metadata": {},
   "outputs": [],
   "source": [
    "arr = ['the', 'fruits', 'of', 'the', 'tree', 'were', 'basically', 'oranges', 'and', 'apples']"
   ]
  },
  {
   "cell_type": "code",
   "execution_count": 70,
   "metadata": {},
   "outputs": [],
   "source": [
    "a = filter(lambda x: len(x) > 3 and len(set(x)) == len(list(x)), arr)\n",
    "res = len(list(a))"
   ]
  },
  {
   "cell_type": "code",
   "execution_count": 71,
   "metadata": {},
   "outputs": [
    {
     "data": {
      "text/plain": [
       "2"
      ]
     },
     "execution_count": 71,
     "metadata": {},
     "output_type": "execute_result"
    }
   ],
   "source": [
    "res"
   ]
  },
  {
   "cell_type": "code",
   "execution_count": 66,
   "metadata": {},
   "outputs": [
    {
     "data": {
      "text/plain": [
       "['f', 'r', 'u', 'i', 't', 's']"
      ]
     },
     "execution_count": 66,
     "metadata": {},
     "output_type": "execute_result"
    }
   ],
   "source": [
    "list('fruits')"
   ]
  },
  {
   "cell_type": "markdown",
   "metadata": {},
   "source": [
    "#### Functional programming\n",
    "\n",
    "Be able to treat data as immutable, when it is not.\n",
    "\n",
    "logic/mutation and value/data separation\n",
    "\n",
    "Lazy Evaluation"
   ]
  },
  {
   "cell_type": "code",
   "execution_count": 1,
   "metadata": {},
   "outputs": [],
   "source": [
    "import sys"
   ]
  },
  {
   "cell_type": "markdown",
   "metadata": {},
   "source": [
    "### Python looks for modules here"
   ]
  },
  {
   "cell_type": "code",
   "execution_count": 2,
   "metadata": {},
   "outputs": [
    {
     "data": {
      "text/plain": [
       "['C:\\\\Users\\\\Harry\\\\Documents\\\\DS\\\\Python-Basics',\n",
       " 'C:\\\\Users\\\\Harry\\\\anaconda3\\\\python38.zip',\n",
       " 'C:\\\\Users\\\\Harry\\\\anaconda3\\\\DLLs',\n",
       " 'C:\\\\Users\\\\Harry\\\\anaconda3\\\\lib',\n",
       " 'C:\\\\Users\\\\Harry\\\\anaconda3',\n",
       " '',\n",
       " 'C:\\\\Users\\\\Harry\\\\anaconda3\\\\lib\\\\site-packages',\n",
       " 'C:\\\\Users\\\\Harry\\\\anaconda3\\\\lib\\\\site-packages\\\\win32',\n",
       " 'C:\\\\Users\\\\Harry\\\\anaconda3\\\\lib\\\\site-packages\\\\win32\\\\lib',\n",
       " 'C:\\\\Users\\\\Harry\\\\anaconda3\\\\lib\\\\site-packages\\\\Pythonwin',\n",
       " 'C:\\\\Users\\\\Harry\\\\anaconda3\\\\lib\\\\site-packages\\\\IPython\\\\extensions',\n",
       " 'C:\\\\Users\\\\Harry\\\\.ipython']"
      ]
     },
     "execution_count": 2,
     "metadata": {},
     "output_type": "execute_result"
    }
   ],
   "source": [
    "sys.path"
   ]
  },
  {
   "cell_type": "code",
   "execution_count": 4,
   "metadata": {},
   "outputs": [
    {
     "data": {
      "text/plain": [
       "'Module name is __main__'"
      ]
     },
     "execution_count": 4,
     "metadata": {},
     "output_type": "execute_result"
    }
   ],
   "source": [
    "f\"Module name is {__name__}\""
   ]
  },
  {
   "cell_type": "code",
   "execution_count": null,
   "metadata": {},
   "outputs": [],
   "source": []
  }
 ],
 "metadata": {
  "kernelspec": {
   "display_name": "Python 3",
   "language": "python",
   "name": "python3"
  },
  "language_info": {
   "codemirror_mode": {
    "name": "ipython",
    "version": 3
   },
   "file_extension": ".py",
   "mimetype": "text/x-python",
   "name": "python",
   "nbconvert_exporter": "python",
   "pygments_lexer": "ipython3",
   "version": "3.8.5"
  }
 },
 "nbformat": 4,
 "nbformat_minor": 4
}
