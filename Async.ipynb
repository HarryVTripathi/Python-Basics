{
 "cells": [
  {
   "cell_type": "markdown",
   "metadata": {},
   "source": [
    "### GIL: Global interpreter lock.\n",
    "\n",
    "> We cannot run two threads in one process at the same time. If we have our Python process create another thread, the main thread and that other thread are not going to be able to run at the same time, even if we did have two or more cores. <br> <br> That's because each process in Python creates a key `resource`, a critical `resource`, and when a thread is running it must acquire that `resource`. And every process creates only one of these. <br> <br> The process creates this unique `resource` and when a thread is running it must acquire this `resource`. Python will check that the thread has that `resource` before it runs it. Because there's only one of those `resource`s, we can only run one thread in that process at once.\n",
    "\n",
    "This resouce is GIL. That's the resource that the process creates and the threads must acquire. This is what the process creates, this Global Interpreter Lock. A thread must acquire it then they can run, and then they must release it for another thread to run. So we cannot run two threads at the same time.\n",
    "\n",
    "*So what is the point of threads? If they can not run at the same time, and also they can make our code slower.*\n",
    "\n",
    "The point of threads in Python is - to reduce waiting time. We cannot run two threads at the same time in Python under the same process."
   ]
  },
  {
   "cell_type": "markdown",
   "metadata": {},
   "source": [
    "#### Blocking statements:\n",
    "\n",
    "This function here:\n",
    "\n",
    "```python\n",
    "user_input = input('Enter your name: ')\n",
    "```\n",
    " is going to wait for the user to type something. This is called a blocking operation, an operation where the thread is blocked, waiting for something to happen. These operations are what makes our threaded code slow."
   ]
  },
  {
   "cell_type": "code",
   "execution_count": 22,
   "metadata": {},
   "outputs": [],
   "source": [
    "from threading import Thread, Timer\n",
    "import random\n",
    "import time"
   ]
  },
  {
   "cell_type": "code",
   "execution_count": 30,
   "metadata": {},
   "outputs": [],
   "source": [
    "def timed_function():\n",
    "    print(\"\"\"\n",
    "    This function, even though started first, \n",
    "    will print only after timeout and succeeding statements \n",
    "    won't wait for it to complete\")\n",
    "    \"\"\")\n",
    "def ask_user():\n",
    "    start = time.time()\n",
    "    user_input = input('Enter your name: ')\n",
    "    greet = f'Hello, {user_input}'\n",
    "    print(greet)\n",
    "    print('ask_user: ', time.time() - start)\n",
    "\n",
    "def complex_calculation():\n",
    "    print('Started calculating...')\n",
    "    start = time.time()\n",
    "    timer = Timer(random.randint(a=5, b=10), timed_function)\n",
    "    timer.start()\n",
    "    print('complex_calculation: ', time.time() - start)"
   ]
  },
  {
   "cell_type": "markdown",
   "metadata": {},
   "source": [
    "Whenever we create a thread, that's gonna go to the operating system ask the operating system to give us a new thread."
   ]
  },
  {
   "cell_type": "code",
   "execution_count": 31,
   "metadata": {},
   "outputs": [
    {
     "name": "stdout",
     "output_type": "stream",
     "text": [
      "Enter your name: Harrion\n",
      "Hello, Harrion\n",
      "ask_user:  3.1555769443511963\n",
      "Started calculating...\n",
      "complex_calculation:  0.002005338668823242\n",
      "Single thread total time:  3.1575822830200195 \n",
      "\n",
      "\n",
      "\n",
      "    This function, even though started first, \n",
      "    will print only after timeout and succeeding statements \n",
      "    won't wait for it to complete\")\n",
      "    \n"
     ]
    }
   ],
   "source": [
    "start = time.time()\n",
    "ask_user()\n",
    "complex_calculation()\n",
    "print('Single thread total time: ', time.time() - start, '\\n\\n')"
   ]
  },
  {
   "cell_type": "markdown",
   "metadata": {},
   "source": [
    "Using threads"
   ]
  },
  {
   "cell_type": "code",
   "execution_count": 33,
   "metadata": {},
   "outputs": [],
   "source": [
    "th1 = Thread(target=complex_calculation)\n",
    "th2 = Thread(target=ask_user)"
   ]
  },
  {
   "cell_type": "markdown",
   "metadata": {},
   "source": [
    "Now we have three threads - a main thread, which is responsible for running through the app, a thread which is responsible for running the `complex_calculation`, and another thread which is responsible for running the `ask_user` function."
   ]
  },
  {
   "cell_type": "code",
   "execution_count": 34,
   "metadata": {},
   "outputs": [
    {
     "name": "stdout",
     "output_type": "stream",
     "text": [
      "Started calculating...\n",
      "complex_calculation:  0.0030031204223632812\n",
      "Enter your name: Harrion\n",
      "Hello, Harrion\n",
      "ask_user:  3.428328037261963\n",
      "\n",
      "    This function, even though started first, \n",
      "    will print only after timeout and succeeding statements \n",
      "    won't wait for it to complete\")\n",
      "    \n"
     ]
    }
   ],
   "source": [
    "start = time.time()\n",
    "th1.start()\n",
    "th2.start()\n",
    "\n",
    "th1.join()\n",
    "th2.join()"
   ]
  },
  {
   "cell_type": "markdown",
   "metadata": {},
   "source": [
    "Now we have three threads running at the same time. \n",
    "\n",
    "When we start `th1`, the `complex_calculation` function is running. When we start `th2`, the `ask_user` function is running.\n",
    "\n",
    "And also, the main thread which is responsible for running this code, is also running. \n",
    "\n",
    "So we have to tell our main thread to wait for these two threads to finish. The way we do that: `th1.join()` and `th2.join()`. This tells our main thread to wait for thread one to finish and wait for thread two to finish."
   ]
  },
  {
   "cell_type": "markdown",
   "metadata": {},
   "source": [
    "When we have a blocking operation like waiting for user input, that is waiting, making the programme wait for something, that's a good use for a thread."
   ]
  },
  {
   "cell_type": "code",
   "execution_count": null,
   "metadata": {},
   "outputs": [],
   "source": []
  }
 ],
 "metadata": {
  "kernelspec": {
   "display_name": "Python 3",
   "language": "python",
   "name": "python3"
  },
  "language_info": {
   "codemirror_mode": {
    "name": "ipython",
    "version": 3
   },
   "file_extension": ".py",
   "mimetype": "text/x-python",
   "name": "python",
   "nbconvert_exporter": "python",
   "pygments_lexer": "ipython3",
   "version": "3.8.5"
  }
 },
 "nbformat": 4,
 "nbformat_minor": 4
}
