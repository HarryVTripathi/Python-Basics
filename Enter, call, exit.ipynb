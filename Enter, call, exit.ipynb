{
 "cells": [
  {
   "cell_type": "markdown",
   "metadata": {},
   "source": [
    " - Using these magic methods (`__enter__`, `__exit__`) allows us to implement objects which can be used easily with the `with` statement.\n",
    "\n",
    "\n",
    " - The idea is that it makes it easy to build code which needs some 'cleandown' code executed (think of it as a `try-finally` block)\n",
    " \n",
    " \n",
    " - `__call__` makes an object callable."
   ]
  },
  {
   "cell_type": "code",
   "execution_count": 31,
   "metadata": {},
   "outputs": [],
   "source": [
    "class Connection:\n",
    "    def __init__(self, url):\n",
    "        self.url = url\n",
    "        \n",
    "    def __enter__(self):\n",
    "        print(\"Creating connection.\")\n",
    "        return self\n",
    "        \n",
    "    def __exit__(self, exc_typef, exc_val, exc_tb):\n",
    "        print(\"Closing connection: \", exc_typef, exc_val, exc_tb)\n",
    "        \n",
    "    def __call__(self):\n",
    "        print(\"Nothing happend.\")\n",
    "        \n",
    "    def upload(self, data):\n",
    "        print(\"Uploaded successfully.\")\n",
    "        \n",
    "    def uploadV2(self, data):\n",
    "        raise KeyError"
   ]
  },
  {
   "cell_type": "code",
   "execution_count": 32,
   "metadata": {},
   "outputs": [
    {
     "name": "stdout",
     "output_type": "stream",
     "text": [
      "Creating connection.\n",
      "<__main__.Connection object at 0x000001C886BDB940>\n",
      "Nothing happend.\n",
      "Uploaded successfully.\n",
      "Closing connection:  None None None\n"
     ]
    }
   ],
   "source": [
    "with Connection(\"ad\") as conn:\n",
    "    print(conn)\n",
    "    conn()\n",
    "    conn.upload(\"data\")\n",
    "    pass"
   ]
  },
  {
   "cell_type": "code",
   "execution_count": 33,
   "metadata": {},
   "outputs": [
    {
     "name": "stdout",
     "output_type": "stream",
     "text": [
      "Creating connection.\n",
      "<__main__.Connection object at 0x000001C886BDB370>\n",
      "Nothing happend.\n",
      "Closing connection:  <class 'KeyError'>  <traceback object at 0x000001C886C62040>\n"
     ]
    },
    {
     "ename": "KeyError",
     "evalue": "",
     "output_type": "error",
     "traceback": [
      "\u001b[1;31m---------------------------------------------------------------------------\u001b[0m",
      "\u001b[1;31mKeyError\u001b[0m                                  Traceback (most recent call last)",
      "\u001b[1;32m<ipython-input-33-6be332cdf05c>\u001b[0m in \u001b[0;36m<module>\u001b[1;34m\u001b[0m\n\u001b[0;32m      2\u001b[0m     \u001b[0mprint\u001b[0m\u001b[1;33m(\u001b[0m\u001b[0mconn\u001b[0m\u001b[1;33m)\u001b[0m\u001b[1;33m\u001b[0m\u001b[1;33m\u001b[0m\u001b[0m\n\u001b[0;32m      3\u001b[0m     \u001b[0mconn\u001b[0m\u001b[1;33m(\u001b[0m\u001b[1;33m)\u001b[0m\u001b[1;33m\u001b[0m\u001b[1;33m\u001b[0m\u001b[0m\n\u001b[1;32m----> 4\u001b[1;33m     \u001b[0mconn\u001b[0m\u001b[1;33m.\u001b[0m\u001b[0muploadV2\u001b[0m\u001b[1;33m(\u001b[0m\u001b[1;34m\"data\"\u001b[0m\u001b[1;33m)\u001b[0m\u001b[1;33m\u001b[0m\u001b[1;33m\u001b[0m\u001b[0m\n\u001b[0m",
      "\u001b[1;32m<ipython-input-31-b3ea78791af7>\u001b[0m in \u001b[0;36muploadV2\u001b[1;34m(self, data)\u001b[0m\n\u001b[0;32m     17\u001b[0m \u001b[1;33m\u001b[0m\u001b[0m\n\u001b[0;32m     18\u001b[0m     \u001b[1;32mdef\u001b[0m \u001b[0muploadV2\u001b[0m\u001b[1;33m(\u001b[0m\u001b[0mself\u001b[0m\u001b[1;33m,\u001b[0m \u001b[0mdata\u001b[0m\u001b[1;33m)\u001b[0m\u001b[1;33m:\u001b[0m\u001b[1;33m\u001b[0m\u001b[1;33m\u001b[0m\u001b[0m\n\u001b[1;32m---> 19\u001b[1;33m         \u001b[1;32mraise\u001b[0m \u001b[0mKeyError\u001b[0m\u001b[1;33m\u001b[0m\u001b[1;33m\u001b[0m\u001b[0m\n\u001b[0m",
      "\u001b[1;31mKeyError\u001b[0m: "
     ]
    }
   ],
   "source": [
    "with Connection(\"ad\") as conn:\n",
    "    print(conn)\n",
    "    conn()\n",
    "    conn.uploadV2(\"data\")\n"
   ]
  },
  {
   "cell_type": "code",
   "execution_count": null,
   "metadata": {},
   "outputs": [],
   "source": []
  }
 ],
 "metadata": {
  "kernelspec": {
   "display_name": "Python 3",
   "language": "python",
   "name": "python3"
  },
  "language_info": {
   "codemirror_mode": {
    "name": "ipython",
    "version": 3
   },
   "file_extension": ".py",
   "mimetype": "text/x-python",
   "name": "python",
   "nbconvert_exporter": "python",
   "pygments_lexer": "ipython3",
   "version": "3.8.5"
  }
 },
 "nbformat": 4,
 "nbformat_minor": 4
}
