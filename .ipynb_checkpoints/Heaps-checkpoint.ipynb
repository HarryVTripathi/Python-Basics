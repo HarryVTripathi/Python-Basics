{
 "cells": [
  {
   "cell_type": "markdown",
   "metadata": {},
   "source": [
    "### Heap, Heap sort and priority queue\n",
    "\n",
    "An array visualized as a nearly complete binary tree.\n",
    "\n",
    " - **Max heap**: The key of a node is greater than or equal to the keys of its children.\n",
    " \n",
    " - **Min heap**: The key of a node is less than or equal to the keys of its children.\n",
    " \n",
    "Maintaining the heap property while modifying the heap. \n",
    "\n",
    "Building a max heap out of an unsorted array, which may or may not turn into a max heap.\n",
    "\n",
    "`max_heapify(Arr, ind)`: Correct a single violation of max heap property in a subtree's root. Assummption: The trees rooted at Left(ind) and Right(ind) are max heaps.\n",
    "\n",
    "```python\n",
    "build_max_heap(Arr):\n",
    "    for i==n/2 to 1:\n",
    "        do max_heapify(Arr, i)\n",
    "```"
   ]
  },
  {
   "cell_type": "code",
   "execution_count": 15,
   "metadata": {},
   "outputs": [],
   "source": [
    "Arr = [1, 2, 3, 4, 5, 6, 7, 8, 9, 10]\n",
    "\n",
    "def max_heapify(A, n, i):\n",
    "    left = 2 * i + 1\n",
    "    right = 2 * (i + 1)\n",
    "    greatest = i\n",
    "    \n",
    "    if left < n and A[greatest] < A[left]:\n",
    "        greatest = left\n",
    "        \n",
    "    if right < n and A[greatest] < A[right]:\n",
    "        greatest = right\n",
    "        \n",
    "    if i != greatest:\n",
    "        # Ninja technique swapping in python\n",
    "        A[i], A[greatest] = A[greatest], A[i]\n",
    "        \n",
    "        max_heapify(A, n, greatest)\n",
    "    \n",
    "    \n",
    "def build_max_heap(A):\n",
    "    n = len(A)\n",
    "    for i in range(n//2 - 1, -1, -1):\n",
    "        max_heapify(A, n, i)\n",
    "        \n",
    "    return A\n"
   ]
  },
  {
   "cell_type": "code",
   "execution_count": 16,
   "metadata": {},
   "outputs": [
    {
     "data": {
      "text/plain": [
       "[10, 1, 7, 9, 2, 6, 3, 8, 4, 5]"
      ]
     },
     "execution_count": 16,
     "metadata": {},
     "output_type": "execute_result"
    }
   ],
   "source": [
    "build_max_heap(Arr)"
   ]
  },
  {
   "cell_type": "code",
   "execution_count": 49,
   "metadata": {},
   "outputs": [],
   "source": [
    "Arr = [1, 2, 3, 4, 5, 6, 7, 8, 9, 10]\n",
    "\n",
    "class MaxHeap:\n",
    "    def __init__(self, arr):\n",
    "        self.arr = arr\n",
    "        self.n = len(arr)\n",
    "\n",
    "        for i in range(self.n//2 - 1, -1, -1):\n",
    "            self.max_heapify(i)\n",
    "\n",
    "        \n",
    "    def max_heapify(self, i, size=None):\n",
    "        A = self.arr\n",
    "        n = size or self.n\n",
    "\n",
    "        left = 2 * i + 1\n",
    "        right = 2 * (i + 1)\n",
    "        greatest = i\n",
    "\n",
    "        if left < n and A[greatest] < A[left]:\n",
    "            greatest = left\n",
    "\n",
    "        if right < n and A[greatest] < A[right]:\n",
    "            greatest = right\n",
    "\n",
    "        if i != greatest:\n",
    "            # Ninja technique swapping in python\n",
    "            A[i], A[greatest] = A[greatest], A[i]\n",
    "\n",
    "            self.max_heapify(greatest, size)\n",
    "            \n",
    "            \n",
    "    def insert(self, e):\n",
    "        self.arr.append(e)\n",
    "        self.n += 1\n",
    "        \n",
    "        for i in range((self.n//2)-1, -1, -1):\n",
    "            self.max_heapify(i)\n",
    "            \n",
    "    def sort(self):\n",
    "        size = self.n\n",
    "        \n",
    "        while size > 0:\n",
    "            self.arr[0], self.arr[size-1] = self.arr[size-1], self.arr[0]\n",
    "            size -= 1\n",
    "            \n",
    "            print(f\"step {self.n - size}: {self.arr}\")\n",
    "\n",
    "            for i in range((size//2)-1, -1, -1):\n",
    "                self.max_heapify(i, size)\n",
    "                \n",
    "            print(f\"After heapify: {self.arr}\")\n",
    "            \n",
    "    def __str__(self):\n",
    "        print(self.arr)\n"
   ]
  },
  {
   "cell_type": "code",
   "execution_count": 50,
   "metadata": {},
   "outputs": [
    {
     "data": {
      "text/plain": [
       "[24, 10, 7, 8, 9, 6, 3, 1, 4, 2, 5]"
      ]
     },
     "execution_count": 50,
     "metadata": {},
     "output_type": "execute_result"
    }
   ],
   "source": [
    "h = MaxHeap(Arr)\n",
    "h.insert(24)\n",
    "h.arr"
   ]
  },
  {
   "cell_type": "code",
   "execution_count": 51,
   "metadata": {},
   "outputs": [
    {
     "name": "stdout",
     "output_type": "stream",
     "text": [
      "step 1: [5, 10, 7, 8, 9, 6, 3, 1, 4, 2, 24]\n",
      "After heapify: [10, 9, 7, 8, 5, 6, 3, 1, 4, 2, 24]\n",
      "step 2: [2, 9, 7, 8, 5, 6, 3, 1, 4, 10, 24]\n",
      "After heapify: [9, 8, 7, 4, 5, 6, 3, 1, 2, 10, 24]\n",
      "step 3: [2, 8, 7, 4, 5, 6, 3, 1, 9, 10, 24]\n",
      "After heapify: [8, 5, 7, 4, 2, 6, 3, 1, 9, 10, 24]\n",
      "step 4: [1, 5, 7, 4, 2, 6, 3, 8, 9, 10, 24]\n",
      "After heapify: [7, 5, 6, 4, 2, 1, 3, 8, 9, 10, 24]\n",
      "step 5: [3, 5, 6, 4, 2, 1, 7, 8, 9, 10, 24]\n",
      "After heapify: [6, 5, 3, 4, 2, 1, 7, 8, 9, 10, 24]\n",
      "step 6: [1, 5, 3, 4, 2, 6, 7, 8, 9, 10, 24]\n",
      "After heapify: [5, 4, 3, 1, 2, 6, 7, 8, 9, 10, 24]\n",
      "step 7: [2, 4, 3, 1, 5, 6, 7, 8, 9, 10, 24]\n",
      "After heapify: [4, 2, 3, 1, 5, 6, 7, 8, 9, 10, 24]\n",
      "step 8: [1, 2, 3, 4, 5, 6, 7, 8, 9, 10, 24]\n",
      "After heapify: [3, 2, 1, 4, 5, 6, 7, 8, 9, 10, 24]\n",
      "step 9: [1, 2, 3, 4, 5, 6, 7, 8, 9, 10, 24]\n",
      "After heapify: [2, 1, 3, 4, 5, 6, 7, 8, 9, 10, 24]\n",
      "step 10: [1, 2, 3, 4, 5, 6, 7, 8, 9, 10, 24]\n",
      "After heapify: [1, 2, 3, 4, 5, 6, 7, 8, 9, 10, 24]\n",
      "step 11: [1, 2, 3, 4, 5, 6, 7, 8, 9, 10, 24]\n",
      "After heapify: [1, 2, 3, 4, 5, 6, 7, 8, 9, 10, 24]\n"
     ]
    }
   ],
   "source": [
    "h.sort()"
   ]
  },
  {
   "cell_type": "code",
   "execution_count": 19,
   "metadata": {},
   "outputs": [
    {
     "data": {
      "text/plain": [
       "[8, 24, 9, 7, 5, 10, 3, 6, 4, 2, 1]"
      ]
     },
     "execution_count": 19,
     "metadata": {},
     "output_type": "execute_result"
    }
   ],
   "source": [
    "h.arr"
   ]
  },
  {
   "cell_type": "code",
   "execution_count": 45,
   "metadata": {},
   "outputs": [
    {
     "data": {
      "text/plain": [
       "5"
      ]
     },
     "execution_count": 45,
     "metadata": {},
     "output_type": "execute_result"
    }
   ],
   "source": [
    "a = 5\n",
    "b = 2\n",
    "c = a or b\n",
    "c"
   ]
  },
  {
   "cell_type": "markdown",
   "metadata": {},
   "source": [
    "### Heapsort and Priority queue - `heapq`"
   ]
  },
  {
   "cell_type": "code",
   "execution_count": 1,
   "metadata": {},
   "outputs": [],
   "source": [
    "import heapq"
   ]
  },
  {
   "cell_type": "code",
   "execution_count": 11,
   "metadata": {},
   "outputs": [
    {
     "name": "stdout",
     "output_type": "stream",
     "text": [
      "[2]\n",
      "[2, 8]\n",
      "[2, 8, 4]\n",
      "[2, 6, 4, 8]\n",
      "[0, 2, 4, 8, 6]\n",
      "[0, 2, 4, 8, 6, 10]\n",
      "[0, 2, 4, 8, 6, 10, 5]\n"
     ]
    }
   ],
   "source": [
    "pq = []\n",
    "arr = [2, 8, 4, 6, 0, 10, 5]\n",
    "\n",
    "for i in arr:\n",
    "    heapq.heappush(pq, i)\n",
    "    print(pq)"
   ]
  },
  {
   "cell_type": "code",
   "execution_count": 15,
   "metadata": {},
   "outputs": [
    {
     "data": {
      "text/plain": [
       "[0, 2, 4, 5, 6, 8, 10]"
      ]
     },
     "execution_count": 15,
     "metadata": {},
     "output_type": "execute_result"
    }
   ],
   "source": [
    "# heapsort\n",
    "[heapq.heappop(pq) for i in range(len(pq))]"
   ]
  },
  {
   "cell_type": "code",
   "execution_count": 21,
   "metadata": {},
   "outputs": [],
   "source": [
    "class A:\n",
    "    def __init__(self, name: str):\n",
    "        self.name = name\n",
    "        \n",
    "    def __lt__(self, other):\n",
    "        return self.name < other.name\n",
    "    \n",
    "    def __str__(self):\n",
    "        return self.name\n",
    "    \n",
    "    def __repr(self):\n",
    "        return self.name"
   ]
  },
  {
   "cell_type": "code",
   "execution_count": 28,
   "metadata": {},
   "outputs": [
    {
     "data": {
      "text/plain": [
       "['asa',\n",
       " 'aylah',\n",
       " 'cassandra',\n",
       " 'claudia',\n",
       " 'cleopetra',\n",
       " 'elizabeth',\n",
       " 'katherine',\n",
       " 'stephanie']"
      ]
     },
     "execution_count": 28,
     "metadata": {},
     "output_type": "execute_result"
    }
   ],
   "source": [
    "arr = ['katherine', 'asa', 'aylah', 'cassandra', 'cleopetra', 'elizabeth', 'stephanie', 'claudia']\n",
    "pq = []\n",
    "\n",
    "for i in arr:\n",
    "    heapq.heappush(pq, A(i))\n",
    "    \n",
    "[heapq.heappop(pq).name for i in range(len(pq))]"
   ]
  },
  {
   "cell_type": "code",
   "execution_count": 27,
   "metadata": {},
   "outputs": [
    {
     "data": {
      "text/plain": [
       "[<__main__.A at 0x1b0deab8070>,\n",
       " <__main__.A at 0x1b0deab8370>,\n",
       " <__main__.A at 0x1b0deab83d0>,\n",
       " <__main__.A at 0x1b0deab0af0>,\n",
       " <__main__.A at 0x1b0deab8220>,\n",
       " <__main__.A at 0x1b0deab0880>,\n",
       " <__main__.A at 0x1b0deab8d90>,\n",
       " <__main__.A at 0x1b0deab0e80>]"
      ]
     },
     "execution_count": 27,
     "metadata": {},
     "output_type": "execute_result"
    }
   ],
   "source": []
  },
  {
   "cell_type": "code",
   "execution_count": null,
   "metadata": {},
   "outputs": [],
   "source": []
  }
 ],
 "metadata": {
  "kernelspec": {
   "display_name": "Python 3",
   "language": "python",
   "name": "python3"
  },
  "language_info": {
   "codemirror_mode": {
    "name": "ipython",
    "version": 3
   },
   "file_extension": ".py",
   "mimetype": "text/x-python",
   "name": "python",
   "nbconvert_exporter": "python",
   "pygments_lexer": "ipython3",
   "version": "3.8.5"
  }
 },
 "nbformat": 4,
 "nbformat_minor": 4
}
