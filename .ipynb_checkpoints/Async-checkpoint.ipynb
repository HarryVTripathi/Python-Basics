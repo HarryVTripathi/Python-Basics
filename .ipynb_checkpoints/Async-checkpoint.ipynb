{
 "cells": [
  {
   "cell_type": "markdown",
   "metadata": {},
   "source": [
    "### GIL: Global interpreter lock.\n",
    "\n",
    "> We cannot run two threads in one process at the same time. If we have our Python process create another thread, the main thread and that other thread are not going to be able to run at the same time, even if we did have two or more cores. <br> <br> That's because each process in Python creates a key `resource`, a critical `resource`, and when a thread is running it must acquire that `resource`. And every process creates only one of these. <br> <br> The process creates this unique `resource` and when a thread is running it must acquire this `resource`. Python will check that the thread has that `resource` before it runs it. Because there's only one of those `resource`s, we can only run one thread in that process at once.\n",
    "\n",
    "This resouce is GIL. That's the resource that the process creates and the threads must acquire. This is what the process creates, this Global Interpreter Lock. A thread must acquire it then they can run, and then they must release it for another thread to run. So we cannot run two threads at the same time.\n",
    "\n",
    "*So what is the point of threads? If they can not run at the same time, and also they can make our code slower.*\n",
    "\n",
    "The point of threads in Python is - to reduce waiting time. We cannot run two threads at the same time in Python under the same process."
   ]
  },
  {
   "cell_type": "markdown",
   "metadata": {},
   "source": [
    "#### Blocking statements:\n",
    "\n",
    "This function here:\n",
    "\n",
    "```python\n",
    "user_input = input('Enter your name: ')\n",
    "```\n",
    " is going to wait for the user to type something. This is called a blocking operation, an operation where the thread is blocked, waiting for something to happen. These operations are what makes our threaded code slow."
   ]
  },
  {
   "cell_type": "code",
   "execution_count": 28,
   "metadata": {},
   "outputs": [],
   "source": [
    "from threading import Thread, Timer\n",
    "import random\n",
    "import time\n",
    "import queue"
   ]
  },
  {
   "cell_type": "code",
   "execution_count": 3,
   "metadata": {},
   "outputs": [],
   "source": [
    "def timed_function():\n",
    "    print(\"\"\"\n",
    "    This function, even though started first, \n",
    "    will print only after timeout and succeeding statements \n",
    "    won't wait for it to complete\")\n",
    "    \"\"\")\n",
    "def ask_user():\n",
    "    start = time.time()\n",
    "    user_input = input('Enter your name: ')\n",
    "    greet = f'Hello, {user_input}'\n",
    "    print(greet)\n",
    "    print('ask_user: ', time.time() - start)\n",
    "\n",
    "def complex_calculation_blocking():\n",
    "    print('Started calculating...')\n",
    "    start = time.time()\n",
    "    time.sleep(5)\n",
    "    print('complex_calculation: ', time.time() - start)\n",
    "    \n",
    "def complex_calculation():\n",
    "    print('Started calculating...')\n",
    "    start = time.time()\n",
    "    timer = Timer(random.randint(a=5, b=10), timed_function)\n",
    "    timer.start()\n",
    "    print('complex_calculation: ', time.time() - start)"
   ]
  },
  {
   "cell_type": "markdown",
   "metadata": {},
   "source": [
    "Whenever we create a thread, that's gonna go to the operating system ask the operating system to give us a new thread."
   ]
  },
  {
   "cell_type": "code",
   "execution_count": 8,
   "metadata": {},
   "outputs": [
    {
     "name": "stdout",
     "output_type": "stream",
     "text": [
      "Enter your name: adf\n",
      "Hello, adf\n",
      "ask_user:  0.8538475036621094\n",
      "Started calculating...\n",
      "complex_calculation:  5.014180898666382\n",
      "Single thread total time:  5.869045972824097 \n",
      "\n",
      "\n"
     ]
    }
   ],
   "source": [
    "start = time.time()\n",
    "ask_user()\n",
    "complex_calculation_blocking()\n",
    "print('Single thread total time: ', time.time() - start, '\\n\\n')"
   ]
  },
  {
   "cell_type": "markdown",
   "metadata": {},
   "source": [
    "### Using threads"
   ]
  },
  {
   "cell_type": "code",
   "execution_count": 9,
   "metadata": {},
   "outputs": [],
   "source": [
    "# Creating threads. When we actually start the thread, only then it runs the functions.\n",
    "\n",
    "th1 = Thread(target=complex_calculation_blocking)\n",
    "th2 = Thread(target=ask_user)"
   ]
  },
  {
   "cell_type": "markdown",
   "metadata": {},
   "source": [
    "Now we have three threads - a main thread, which is responsible for running through the app, a thread which is responsible for running the `complex_calculation`, and another thread which is responsible for running the `ask_user` function."
   ]
  },
  {
   "cell_type": "code",
   "execution_count": 10,
   "metadata": {},
   "outputs": [
    {
     "name": "stdout",
     "output_type": "stream",
     "text": [
      "Started calculating...\n",
      "Enter your name: asdfdsa\n",
      "Hello, asdfdsa\n",
      "ask_user:  1.479612112045288\n",
      "complex_calculation:  5.0086352825164795\n"
     ]
    }
   ],
   "source": [
    "start = time.time()\n",
    "\n",
    "# Starting the threads at same time as main thread.\n",
    "th1.start()\n",
    "th2.start()\n"
   ]
  },
  {
   "cell_type": "markdown",
   "metadata": {},
   "source": [
    "> thread1 runs ask_user, thread2 (worker threads) runs complex_calculation_blocking main thread runs the all the code here. So we need to tell the main thread to wait, and not exit until the two threads finish"
   ]
  },
  {
   "cell_type": "code",
   "execution_count": 11,
   "metadata": {},
   "outputs": [],
   "source": [
    "th1.join()\n",
    "th2.join()"
   ]
  },
  {
   "cell_type": "markdown",
   "metadata": {},
   "source": [
    "Now we have three threads (2 worker, 1 main) running at the same time (concurrently). \n",
    "\n",
    "When we start `th1`, the `complex_calculation` function is running. When we start `th2`, the `ask_user` function is running.\n",
    "\n",
    "And also, the main thread which is responsible for running this code, is also running. \n",
    "\n",
    "So we have to tell our main thread to wait for these two threads to finish. The way we do that: `th1.join()` and `th2.join()`. This tells our main thread to wait for thread one to finish and wait for thread two to finish."
   ]
  },
  {
   "cell_type": "markdown",
   "metadata": {},
   "source": [
    "When we have a blocking operation like waiting for user input, that is waiting, making the programme wait for something, that's a good use for a thread."
   ]
  },
  {
   "cell_type": "markdown",
   "metadata": {},
   "source": [
    "### `ThreadPoolExecutor`"
   ]
  },
  {
   "cell_type": "code",
   "execution_count": 1,
   "metadata": {},
   "outputs": [],
   "source": [
    "from concurrent.futures import ThreadPoolExecutor"
   ]
  },
  {
   "cell_type": "code",
   "execution_count": 5,
   "metadata": {},
   "outputs": [
    {
     "name": "stdout",
     "output_type": "stream",
     "text": [
      "Started calculating...\n"
     ]
    }
   ],
   "source": [
    "# Does `as` create in instance?\n",
    "\n",
    "with ThreadPoolExecutor(max_workers=2) as pool:\n",
    "    pool.submit(complex_calculation_blocking)\n",
    "    pool.submit(ask_user)"
   ]
  },
  {
   "cell_type": "markdown",
   "metadata": {},
   "source": [
    "### Multi processing in python"
   ]
  },
  {
   "cell_type": "markdown",
   "metadata": {},
   "source": [
    "Due to the way Windows forks processes, we must make sure that the code that starts a process is surrounded by \n",
    "\n",
    "`if __name__ == \"__main__\"`\n",
    "\n",
    "\n",
    "Otherwise when we start new processes on Windows, those processes automatically start new processes, and those start new ones, and so on. Python will not allow this to happen, and as protection it requires the above if statement.\n",
    "\n",
    "Replace `process.start()`, with:\n",
    "\n",
    "```python\n",
    "if __name__ == \"__main__\":\n",
    "    process.start()\n",
    "    ...\n",
    "    process.join()\n",
    "```\n",
    "\n",
    "It's important that all the code in between starting the process and joining the process is inside the if statement."
   ]
  },
  {
   "cell_type": "markdown",
   "metadata": {},
   "source": [
    "### Shared state between threads.\n",
    "\n",
    "- **Atomic Operation:** An atomic operation is one that cannot be interrupted in the middle of it. So we cannot interrupt an atomic operation halfway through it by changing to a new thread. Whenever we're doing an atomic operation we know that it's going to finish before we can unplug the thread from the core and put another one in. <br> For example, a print statement cannot print only half the line and then be interrupted. Similarly, appending to a deque cannot be interrupted halfway through."
   ]
  },
  {
   "cell_type": "code",
   "execution_count": 25,
   "metadata": {},
   "outputs": [],
   "source": [
    "# Shared state between threads\n",
    "counter = 0\n",
    "\n",
    "# Adding random sleeps between statements when doing multithreaded codes is called fuzzying,\n",
    "\n",
    "def incr_counter():\n",
    "    global counter\n",
    "    counter += 1\n",
    "    time.sleep(random.random())\n",
    "    print(f'New counter: {counter}')"
   ]
  },
  {
   "cell_type": "code",
   "execution_count": 27,
   "metadata": {},
   "outputs": [
    {
     "name": "stdout",
     "output_type": "stream",
     "text": [
      "New counter: 12\n",
      "New counter: 12\n",
      "New counter: 13\n",
      "New counter: 14\n",
      "New counter: 15\n",
      "New counter: 16\n",
      "New counter: 17\n",
      "New counter: 18\n",
      "New counter: 20\n",
      "New counter: 20\n"
     ]
    }
   ],
   "source": [
    "for x in range(10):\n",
    "    t = Thread(target=incr_counter)\n",
    "    time.sleep(random.random())\n",
    "    t.start()"
   ]
  },
  {
   "cell_type": "markdown",
   "metadata": {},
   "source": [
    "### Using queue for thread sequencing"
   ]
  },
  {
   "cell_type": "code",
   "execution_count": 38,
   "metadata": {},
   "outputs": [],
   "source": [
    "job_q = queue.Queue()\n",
    "count_q = queue.Queue()\n",
    "counter = 0\n",
    "\n",
    "\n",
    "def incr_mgr():\n",
    "    global counter\n",
    "    \n",
    "    while True:\n",
    "        # this waits until an item is available and then locks the queue.\n",
    "        # and when it is available, it's not going to allow any other threads to get anything until we are done.\n",
    "        incr = count_q.get()\n",
    "        old_counter = counter\n",
    "        counter = old_counter + incr\n",
    "        job_q.put((f'New value: {counter}', '-------'))\n",
    "        \n",
    "        # This unlocks the queue, so that another thread could get something if it wanted.\n",
    "        count_q.task_done()\n",
    "        \n",
    "def print_mgr():\n",
    "    while True:\n",
    "        for line in job_q.get():\n",
    "            print(line)\n",
    "            \n",
    "        job_q.task_done()\n",
    "        \n",
    "def incr_counter():\n",
    "    count_q.put(1)"
   ]
  },
  {
   "cell_type": "code",
   "execution_count": 39,
   "metadata": {},
   "outputs": [
    {
     "name": "stdout",
     "output_type": "stream",
     "text": [
      "New value: 1\n",
      "-------\n",
      "New value: 2\n",
      "-------\n",
      "New value: 3\n",
      "-------\n",
      "New value: 4\n",
      "-------\n",
      "New value: 5\n",
      "-------\n",
      "New value: 6\n",
      "-------\n",
      "New value: 7\n",
      "-------\n",
      "New value: 8\n",
      "-------\n",
      "New value: 9\n",
      "-------\n",
      "New value: 10\n",
      "-------\n"
     ]
    }
   ],
   "source": [
    "# daemon: true => The thread is going to run until an error is encountered\n",
    "thr_inc = Thread(target=incr_mgr, daemon=True)\n",
    "thr_print = Thread(target=print_mgr, daemon=True)\n",
    "worker_threads = [Thread(target=incr_counter) for thread in range(10)]\n",
    "\n",
    "thr_inc.start()\n",
    "thr_print.start()\n",
    "\n",
    "for i in worker_threads:\n",
    "    i.start()\n",
    "    \n",
    "for i in worker_threads:\n",
    "    i.join()\n",
    "    \n",
    "count_q.join()\n",
    "job_q.join()"
   ]
  },
  {
   "cell_type": "markdown",
   "metadata": {},
   "source": [
    "### Generators instead of threads for concurrent processing"
   ]
  },
  {
   "cell_type": "markdown",
   "metadata": {},
   "source": [
    "Multi-tasking without threads.\n",
    "\n",
    "> So very similar to a thread, really, if we think about it. A Thread can at any point be suspended or removed from a core and then it can be brought back and it continues running where it's left off. So the generator actually behaves fairly similar to a thread in that when we arrive at a yield we're removing it from the core, and when we execute next, we're sort of bringing it back and it continues running."
   ]
  },
  {
   "cell_type": "code",
   "execution_count": 40,
   "metadata": {},
   "outputs": [],
   "source": [
    "def countdown(n):\n",
    "    while n > 0:\n",
    "        yield n\n",
    "        n -= 1\n",
    "        \n",
    "g1 = countdown(10)\n",
    "g2 = countdown(20)"
   ]
  },
  {
   "cell_type": "code",
   "execution_count": 41,
   "metadata": {},
   "outputs": [
    {
     "name": "stdout",
     "output_type": "stream",
     "text": [
      "10\n",
      "20\n",
      "9\n",
      "19\n"
     ]
    }
   ],
   "source": [
    "print(next(g1))\n",
    "print(next(g2))\n",
    "print(next(g1))\n",
    "print(next(g2))"
   ]
  },
  {
   "cell_type": "code",
   "execution_count": 42,
   "metadata": {},
   "outputs": [
    {
     "name": "stdout",
     "output_type": "stream",
     "text": [
      "10\n",
      "5\n",
      "20\n",
      "9\n",
      "4\n",
      "19\n",
      "8\n",
      "3\n",
      "18\n",
      "7\n",
      "2\n",
      "17\n",
      "6\n",
      "1\n",
      "16\n",
      "5\n",
      "Task completed\n",
      "15\n",
      "4\n",
      "14\n",
      "3\n",
      "13\n",
      "2\n",
      "12\n",
      "1\n",
      "11\n",
      "Task completed\n",
      "10\n",
      "9\n",
      "8\n",
      "7\n",
      "6\n",
      "5\n",
      "4\n",
      "3\n",
      "2\n",
      "1\n",
      "Task completed\n"
     ]
    }
   ],
   "source": [
    "tasks = [countdown(10), countdown(5), countdown(20)]\n",
    "\n",
    "while tasks:\n",
    "    task = tasks[0]\n",
    "    tasks.remove(task)\n",
    "    \n",
    "    try:\n",
    "        print(next(task))\n",
    "        tasks.append(task)\n",
    "        \n",
    "    except Exception:\n",
    "        print(\"Task completed\")"
   ]
  },
  {
   "cell_type": "markdown",
   "metadata": {},
   "source": [
    "#### Yielding from another iterator."
   ]
  },
  {
   "cell_type": "code",
   "execution_count": 4,
   "metadata": {},
   "outputs": [],
   "source": [
    "from collections import deque"
   ]
  },
  {
   "cell_type": "code",
   "execution_count": 5,
   "metadata": {},
   "outputs": [],
   "source": [
    "models = deque(('Catherine', 'Elizabeth', 'Nicole'))\n",
    "\n",
    "def get_models():\n",
    "    yield from models\n"
   ]
  },
  {
   "cell_type": "code",
   "execution_count": 6,
   "metadata": {},
   "outputs": [],
   "source": [
    "g = get_models()"
   ]
  },
  {
   "cell_type": "code",
   "execution_count": 7,
   "metadata": {},
   "outputs": [
    {
     "data": {
      "text/plain": [
       "'Catherine'"
      ]
     },
     "execution_count": 7,
     "metadata": {},
     "output_type": "execute_result"
    }
   ],
   "source": [
    "next(g)"
   ]
  },
  {
   "cell_type": "code",
   "execution_count": 8,
   "metadata": {},
   "outputs": [],
   "source": [
    "def greet_model(generator):\n",
    "    while True:\n",
    "        try:\n",
    "            model = next(generator)\n",
    "            yield f'Hello {model}'\n",
    "            \n",
    "        except StopIteration:\n",
    "            pass\n"
   ]
  },
  {
   "cell_type": "code",
   "execution_count": 9,
   "metadata": {},
   "outputs": [],
   "source": [
    "g = greet_model(get_models())"
   ]
  },
  {
   "cell_type": "code",
   "execution_count": 10,
   "metadata": {},
   "outputs": [
    {
     "data": {
      "text/plain": [
       "'Hello Catherine'"
      ]
     },
     "execution_count": 10,
     "metadata": {},
     "output_type": "execute_result"
    }
   ],
   "source": [
    "next(g)"
   ]
  },
  {
   "cell_type": "markdown",
   "metadata": {},
   "source": [
    "#### Receive data with yield statement"
   ]
  },
  {
   "cell_type": "code",
   "execution_count": 11,
   "metadata": {},
   "outputs": [],
   "source": [
    "models = deque(('Catherine', 'Elizabeth', 'Nicole'))\n",
    "\n",
    "\"\"\"\n",
    "Generators that receive data, they're really no longer called generators, \n",
    "because they're not generating anything. \n",
    "Now they're receiving data and doing something with it. \n",
    "This type of generator is called a co-routine. \n",
    "\n",
    "And in Python, they're known as co-routines because they take in data, \n",
    "and they can be suspended.\n",
    "\"\"\"\n",
    "def model_upper():\n",
    "    while models:\n",
    "        model = models.popleft().upper()\n",
    "        greeting = yield\n",
    "        print(f'{greeting} {model}')\n",
    "        \n",
    "        \n",
    "def greet(gen):\n",
    "    # yield from g\n",
    "    gen.send(None)\n",
    "    \n",
    "    while True:\n",
    "        greeting = yield\n",
    "        gen.send(greeting)\n",
    "        \n"
   ]
  },
  {
   "cell_type": "code",
   "execution_count": 40,
   "metadata": {},
   "outputs": [],
   "source": [
    "greeter = greet(model_upper())"
   ]
  },
  {
   "cell_type": "code",
   "execution_count": 41,
   "metadata": {},
   "outputs": [],
   "source": [
    "greeter.send(None)"
   ]
  },
  {
   "cell_type": "code",
   "execution_count": 42,
   "metadata": {},
   "outputs": [
    {
     "name": "stdout",
     "output_type": "stream",
     "text": [
      "Hello CATHERINE\n"
     ]
    }
   ],
   "source": [
    "greeter.send('Hello')"
   ]
  },
  {
   "cell_type": "code",
   "execution_count": 43,
   "metadata": {},
   "outputs": [
    {
     "name": "stdout",
     "output_type": "stream",
     "text": [
      "Hello world multi-tasking\n"
     ]
    }
   ],
   "source": [
    "# Pausing the function and doing something else\n",
    "print(\"Hello world multi-tasking\")"
   ]
  },
  {
   "cell_type": "code",
   "execution_count": 44,
   "metadata": {},
   "outputs": [
    {
     "name": "stdout",
     "output_type": "stream",
     "text": [
      "How are you! ELIZABETH\n"
     ]
    }
   ],
   "source": [
    "# Resuming the function\n",
    "greeter.send('How are you!')"
   ]
  },
  {
   "cell_type": "markdown",
   "metadata": {},
   "source": [
    "### Generator based Coroutines"
   ]
  },
  {
   "cell_type": "code",
   "execution_count": 2,
   "metadata": {},
   "outputs": [],
   "source": [
    "from types import coroutine"
   ]
  },
  {
   "cell_type": "code",
   "execution_count": 13,
   "metadata": {},
   "outputs": [],
   "source": [
    "async def greet_async(gen):\n",
    "    await gen\n",
    "    \n",
    "@coroutine\n",
    "def model_upper():\n",
    "    while models:\n",
    "        model = models.popleft().upper()\n",
    "        greeting = yield\n",
    "        print(f'{greeting} {model}')"
   ]
  },
  {
   "cell_type": "code",
   "execution_count": 14,
   "metadata": {},
   "outputs": [],
   "source": [
    "greeter = greet_async(model_upper())"
   ]
  },
  {
   "cell_type": "code",
   "execution_count": 15,
   "metadata": {},
   "outputs": [],
   "source": [
    "greeter.send(None)"
   ]
  },
  {
   "cell_type": "code",
   "execution_count": 16,
   "metadata": {},
   "outputs": [
    {
     "name": "stdout",
     "output_type": "stream",
     "text": [
      "Hello CATHERINE\n"
     ]
    }
   ],
   "source": [
    "greeter.send('Hello')"
   ]
  },
  {
   "cell_type": "code",
   "execution_count": null,
   "metadata": {},
   "outputs": [],
   "source": []
  }
 ],
 "metadata": {
  "kernelspec": {
   "display_name": "Python 3",
   "language": "python",
   "name": "python3"
  },
  "language_info": {
   "codemirror_mode": {
    "name": "ipython",
    "version": 3
   },
   "file_extension": ".py",
   "mimetype": "text/x-python",
   "name": "python",
   "nbconvert_exporter": "python",
   "pygments_lexer": "ipython3",
   "version": "3.8.5"
  }
 },
 "nbformat": 4,
 "nbformat_minor": 4
}
