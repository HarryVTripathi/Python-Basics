{
 "cells": [
  {
   "cell_type": "code",
   "execution_count": 1,
   "metadata": {},
   "outputs": [],
   "source": [
    "from uuid import uuid4\n",
    "\n",
    "\n",
    "class Account:\n",
    "    id = 0\n",
    "    def __init__(self, balance=0):\n",
    "        Account.id += 1\n",
    "        self.id = Account.id\n",
    "        self.balance = balance\n",
    "    \n",
    "    def __str__(self):\n",
    "        print(f\"Account {self.id} has Rs. {self.balance} in account\")"
   ]
  },
  {
   "cell_type": "code",
   "execution_count": 1,
   "metadata": {},
   "outputs": [
    {
     "name": "stdout",
     "output_type": "stream",
     "text": [
      "True\n"
     ]
    }
   ],
   "source": [
    "class A:\n",
    "    def __init__(self, x, y):\n",
    "        self.x = x\n",
    "        self.y = y\n",
    "    def __str__(self):\n",
    "        return 1\n",
    "    def __eq__(self, other):\n",
    "        return self.x * self.y == other.x * other.y\n",
    "obj1 = A(9, 8)\n",
    "obj2 = A(8, 9)\n",
    "print(obj1 == obj2)"
   ]
  },
  {
   "cell_type": "code",
   "execution_count": 2,
   "metadata": {},
   "outputs": [
    {
     "name": "stdout",
     "output_type": "stream",
     "text": [
      "Christian Bale | Ben Affleck | Robert Pattinson\n"
     ]
    }
   ],
   "source": [
    "class Batman:\n",
    "  fn = \"Ben\"\n",
    "  ln = \"Affleck\"\n",
    "\n",
    "  def instance_method(self):\n",
    "    self.fn = \"Christian\"\n",
    "    self.ln = \"Bale\"\n",
    "    print(self.fn, self.ln, end = \" | \")\n",
    "\n",
    "  @classmethod\n",
    "  def class_method(cls):\n",
    "    print(cls.fn, cls.ln, end = \" | \")\n",
    "    cls.fn = \"Robert\"\n",
    "    cls.ln = \"Pattinson\"\n",
    "\n",
    "  @staticmethod\n",
    "  def static_method():\n",
    "    print(Batman.fn, Batman.ln)\n",
    "\n",
    "batman = Batman()\n",
    "batman.instance_method()\n",
    "Batman.class_method()\n",
    "Batman.static_method()"
   ]
  },
  {
   "cell_type": "code",
   "execution_count": null,
   "metadata": {},
   "outputs": [],
   "source": []
  }
 ],
 "metadata": {
  "kernelspec": {
   "display_name": "Python 3",
   "language": "python",
   "name": "python3"
  },
  "language_info": {
   "codemirror_mode": {
    "name": "ipython",
    "version": 3
   },
   "file_extension": ".py",
   "mimetype": "text/x-python",
   "name": "python",
   "nbconvert_exporter": "python",
   "pygments_lexer": "ipython3",
   "version": "3.8.5"
  }
 },
 "nbformat": 4,
 "nbformat_minor": 4
}
