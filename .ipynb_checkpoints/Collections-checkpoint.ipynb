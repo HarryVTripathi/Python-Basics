{
 "cells": [
  {
   "cell_type": "code",
   "execution_count": 31,
   "metadata": {},
   "outputs": [],
   "source": [
    "from collections import Counter, defaultdict, namedtuple, deque"
   ]
  },
  {
   "cell_type": "markdown",
   "metadata": {},
   "source": [
    "#### Counter\n",
    "\n",
    "An iterable or a mapping. Returns the frequency of each element in iterable `<item>: <count>`."
   ]
  },
  {
   "cell_type": "code",
   "execution_count": 2,
   "metadata": {},
   "outputs": [],
   "source": [
    "d = [12, 12, 32, 432, 5, 2, 65, 75, 7, 2, 21, 34]"
   ]
  },
  {
   "cell_type": "code",
   "execution_count": 7,
   "metadata": {},
   "outputs": [
    {
     "data": {
      "text/plain": [
       "Counter({12: 2, 32: 1, 432: 1, 5: 1, 2: 2, 65: 1, 75: 1, 7: 1, 21: 1, 34: 1})"
      ]
     },
     "execution_count": 7,
     "metadata": {},
     "output_type": "execute_result"
    }
   ],
   "source": [
    "c = Counter(d)\n",
    "c"
   ]
  },
  {
   "cell_type": "code",
   "execution_count": 15,
   "metadata": {},
   "outputs": [
    {
     "ename": "TypeError",
     "evalue": "'Counter' object is not an iterator",
     "output_type": "error",
     "traceback": [
      "\u001b[1;31m---------------------------------------------------------------------------\u001b[0m",
      "\u001b[1;31mTypeError\u001b[0m                                 Traceback (most recent call last)",
      "\u001b[1;32m<ipython-input-15-5a2d7f6ff6c5>\u001b[0m in \u001b[0;36m<module>\u001b[1;34m\u001b[0m\n\u001b[0;32m      1\u001b[0m \u001b[1;31m# Generator are iterators. So if this ain't an iterator, this ain't a generator either\u001b[0m\u001b[1;33m\u001b[0m\u001b[1;33m\u001b[0m\u001b[1;33m\u001b[0m\u001b[0m\n\u001b[1;32m----> 2\u001b[1;33m \u001b[0mnext\u001b[0m\u001b[1;33m(\u001b[0m\u001b[0mc\u001b[0m\u001b[1;33m)\u001b[0m\u001b[1;33m\u001b[0m\u001b[1;33m\u001b[0m\u001b[0m\n\u001b[0m",
      "\u001b[1;31mTypeError\u001b[0m: 'Counter' object is not an iterator"
     ]
    }
   ],
   "source": [
    "# Generator are iterators. So if this ain't an iterator, this ain't a generator either\n",
    "next(c)"
   ]
  },
  {
   "cell_type": "code",
   "execution_count": 16,
   "metadata": {},
   "outputs": [
    {
     "data": {
      "text/plain": [
       "{12: 2, 32: 1, 432: 1, 5: 1, 2: 2, 65: 1, 75: 1, 7: 1, 21: 1, 34: 1}"
      ]
     },
     "execution_count": 16,
     "metadata": {},
     "output_type": "execute_result"
    }
   ],
   "source": [
    "dict(c)"
   ]
  },
  {
   "cell_type": "markdown",
   "metadata": {},
   "source": [
    "#### defaultdict\n",
    "\n",
    " - Does not raise a `KeyError`.\n",
    "\n",
    "\n",
    " - Sets default value for a missing key.\n",
    "\n",
    "\n",
    " - Default value is the default value of the object type passed in constructor."
   ]
  },
  {
   "cell_type": "code",
   "execution_count": 28,
   "metadata": {},
   "outputs": [],
   "source": [
    "like_relations = [\n",
    "    ('Aaron', 'Lincoln'),\n",
    "    ('Harrion', 'Ashara'),\n",
    "    ('Aaron', 'Ashara'),\n",
    "    ('Damien', 'Ashara'),\n",
    "    ('Damien', 'Sasha'),\n",
    "    ('Ashara', 'Harrion'),\n",
    "    ('Sasha', 'Damien'),\n",
    "    ('Sasha', 'Ashara'),\n",
    "    ('Shikan', 'Ashara'),\n",
    "    ('Prabhu', 'Ashara')\n",
    "]"
   ]
  },
  {
   "cell_type": "code",
   "execution_count": 29,
   "metadata": {},
   "outputs": [
    {
     "data": {
      "text/plain": [
       "{'Aaron': ['Lincoln', 'Ashara'],\n",
       " 'Harrion': ['Ashara'],\n",
       " 'Damien': ['Ashara', 'Sasha'],\n",
       " 'Ashara': ['Harrion'],\n",
       " 'Sasha': ['Damien', 'Ashara'],\n",
       " 'Shikan': ['Ashara'],\n",
       " 'Prabhu': ['Ashara']}"
      ]
     },
     "execution_count": 29,
     "metadata": {},
     "output_type": "execute_result"
    }
   ],
   "source": [
    "# Could be useful in graphs\n",
    "\n",
    "likes = defaultdict(list)\n",
    "\n",
    "for person, liked_person in like_relations:\n",
    "    likes[person].append(liked_person)\n",
    "\n",
    "dict(likes)"
   ]
  },
  {
   "cell_type": "markdown",
   "metadata": {},
   "source": [
    "We can change the `default_factory` attribute of the `defaultdict` object to change the default value data type"
   ]
  },
  {
   "cell_type": "code",
   "execution_count": 32,
   "metadata": {},
   "outputs": [],
   "source": [
    "likes.default_factory = tuple"
   ]
  },
  {
   "cell_type": "code",
   "execution_count": 33,
   "metadata": {},
   "outputs": [
    {
     "data": {
      "text/plain": [
       "()"
      ]
     },
     "execution_count": 33,
     "metadata": {},
     "output_type": "execute_result"
    }
   ],
   "source": [
    "likes['Smith']"
   ]
  },
  {
   "cell_type": "markdown",
   "metadata": {},
   "source": [
    "Or with a custom default value."
   ]
  },
  {
   "cell_type": "code",
   "execution_count": 35,
   "metadata": {},
   "outputs": [
    {
     "data": {
      "text/plain": [
       "{'Aaron': ['Ashara', 'Lincoln', 'Ashara'],\n",
       " 'Harrion': ['Ashara', 'Ashara'],\n",
       " 'Damien': ['Ashara', 'Ashara', 'Sasha'],\n",
       " 'Ashara': ['Ashara', 'Harrion'],\n",
       " 'Sasha': ['Ashara', 'Damien', 'Ashara'],\n",
       " 'Shikan': ['Ashara', 'Ashara'],\n",
       " 'Prabhu': ['Ashara', 'Ashara']}"
      ]
     },
     "execution_count": 35,
     "metadata": {},
     "output_type": "execute_result"
    }
   ],
   "source": [
    "likes = defaultdict(lambda: ['Ashara'])\n",
    "\n",
    "for person, liked_person in like_relations:\n",
    "    likes[person].append(liked_person)\n",
    "\n",
    "dict(likes)"
   ]
  },
  {
   "cell_type": "code",
   "execution_count": 36,
   "metadata": {},
   "outputs": [
    {
     "data": {
      "text/plain": [
       "['Ashara']"
      ]
     },
     "execution_count": 36,
     "metadata": {},
     "output_type": "execute_result"
    }
   ],
   "source": [
    "likes['Smith']"
   ]
  },
  {
   "cell_type": "markdown",
   "metadata": {},
   "source": [
    "#### deque\n",
    "\n",
    "Thread safe."
   ]
  },
  {
   "cell_type": "code",
   "execution_count": 36,
   "metadata": {},
   "outputs": [],
   "source": [
    "dq = deque([0])"
   ]
  },
  {
   "cell_type": "code",
   "execution_count": 37,
   "metadata": {},
   "outputs": [
    {
     "data": {
      "text/plain": [
       "0"
      ]
     },
     "execution_count": 37,
     "metadata": {},
     "output_type": "execute_result"
    }
   ],
   "source": [
    "dq[0]"
   ]
  },
  {
   "cell_type": "code",
   "execution_count": 38,
   "metadata": {},
   "outputs": [],
   "source": [
    "dq.append(1)\n",
    "dq.append(2)"
   ]
  },
  {
   "cell_type": "code",
   "execution_count": 43,
   "metadata": {},
   "outputs": [
    {
     "data": {
      "text/plain": [
       "2"
      ]
     },
     "execution_count": 43,
     "metadata": {},
     "output_type": "execute_result"
    }
   ],
   "source": [
    "dq.popleft()"
   ]
  },
  {
   "cell_type": "code",
   "execution_count": 49,
   "metadata": {},
   "outputs": [
    {
     "data": {
      "text/plain": [
       "True"
      ]
     },
     "execution_count": 49,
     "metadata": {},
     "output_type": "execute_result"
    }
   ],
   "source": [
    "not len(dq)"
   ]
  },
  {
   "cell_type": "markdown",
   "metadata": {},
   "source": [
    "#### Higher order functions:\n",
    "\n",
    "Accept other functions as parameters and invoke them within their body"
   ]
  },
  {
   "cell_type": "code",
   "execution_count": 38,
   "metadata": {},
   "outputs": [],
   "source": [
    "def done():\n",
    "    print('Done!')"
   ]
  },
  {
   "cell_type": "code",
   "execution_count": 39,
   "metadata": {},
   "outputs": [],
   "source": [
    "def doSomthing(done):\n",
    "    print(\"Did something.\")\n",
    "    done()"
   ]
  },
  {
   "cell_type": "code",
   "execution_count": 41,
   "metadata": {},
   "outputs": [
    {
     "name": "stdout",
     "output_type": "stream",
     "text": [
      "Did something.\n",
      "Done!\n"
     ]
    }
   ],
   "source": [
    "doSomthing(done)"
   ]
  },
  {
   "cell_type": "code",
   "execution_count": null,
   "metadata": {},
   "outputs": [],
   "source": []
  }
 ],
 "metadata": {
  "kernelspec": {
   "display_name": "Python 3",
   "language": "python",
   "name": "python3"
  },
  "language_info": {
   "codemirror_mode": {
    "name": "ipython",
    "version": 3
   },
   "file_extension": ".py",
   "mimetype": "text/x-python",
   "name": "python",
   "nbconvert_exporter": "python",
   "pygments_lexer": "ipython3",
   "version": "3.8.5"
  }
 },
 "nbformat": 4,
 "nbformat_minor": 4
}
