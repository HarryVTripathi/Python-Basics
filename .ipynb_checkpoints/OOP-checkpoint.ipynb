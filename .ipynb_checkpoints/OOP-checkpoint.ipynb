{
 "cells": [
  {
   "cell_type": "code",
   "execution_count": 1,
   "metadata": {},
   "outputs": [],
   "source": [
    "class Pirate:\n",
    "    def __init__(self, name, epithet):\n",
    "        self.name = name\n",
    "        self.epithet = epithet\n",
    "        \n",
    "    def assign_bounty(self, bounty):\n",
    "        self.bounty = bounty\n",
    "        \n",
    "    def physical_stats(self):\n",
    "        return self.height, self.weight"
   ]
  },
  {
   "cell_type": "markdown",
   "metadata": {},
   "source": [
    " - Not necessarily `self`. Can be any name we want."
   ]
  },
  {
   "cell_type": "code",
   "execution_count": 5,
   "metadata": {},
   "outputs": [],
   "source": [
    "luffy = Pirate('Monkey D. Luffy', 'Straw Hat Luffy')"
   ]
  },
  {
   "cell_type": "code",
   "execution_count": 6,
   "metadata": {},
   "outputs": [
    {
     "data": {
      "text/plain": [
       "'Monkey D. Luffy'"
      ]
     },
     "execution_count": 6,
     "metadata": {},
     "output_type": "execute_result"
    }
   ],
   "source": [
    "luffy.name"
   ]
  },
  {
   "cell_type": "code",
   "execution_count": 8,
   "metadata": {},
   "outputs": [],
   "source": [
    "luffy.height = 174\n",
    "luffy.weight = 72"
   ]
  },
  {
   "cell_type": "code",
   "execution_count": 9,
   "metadata": {},
   "outputs": [
    {
     "data": {
      "text/plain": [
       "(174, 72)"
      ]
     },
     "execution_count": 9,
     "metadata": {},
     "output_type": "execute_result"
    }
   ],
   "source": [
    "# Can be called with class name as well, passing the self object\n",
    "Pirate.physical_stats(luffy)"
   ]
  },
  {
   "cell_type": "markdown",
   "metadata": {},
   "source": [
    "#### Magic methods"
   ]
  },
  {
   "cell_type": "markdown",
   "metadata": {},
   "source": [
    " - An iterable crew\n",
    " \n",
    " - Try to make classes with `__repr__` and `__str__`"
   ]
  },
  {
   "cell_type": "code",
   "execution_count": 26,
   "metadata": {},
   "outputs": [],
   "source": [
    "class Crew:\n",
    "    def __init__(self, name, members):\n",
    "        self.name = name\n",
    "        self.members = members\n",
    "        \n",
    "    def __len__(self):\n",
    "        return len(self.members)\n",
    "    \n",
    "    def __getitem__(self, i):\n",
    "        return self.members[i]\n",
    "    \n",
    "    def __str__(self):\n",
    "        return f\"{self.name} with members {self.members}\"\n",
    "    \n",
    "    def __repr__(self):\n",
    "        # Use to debug\n",
    "        return None"
   ]
  },
  {
   "cell_type": "code",
   "execution_count": 27,
   "metadata": {},
   "outputs": [],
   "source": [
    "crew = ['Monkey D. Luffy', 'Nami', 'Roronoa Zoro', 'Sanji', 'Nico Robin']\n",
    "strawhats = Crew('Straw Hat Pirates', crew)"
   ]
  },
  {
   "cell_type": "code",
   "execution_count": 28,
   "metadata": {},
   "outputs": [
    {
     "data": {
      "text/plain": [
       "['Monkey D. Luffy', 'Nami', 'Roronoa Zoro', 'Sanji', 'Nico Robin']"
      ]
     },
     "execution_count": 28,
     "metadata": {},
     "output_type": "execute_result"
    }
   ],
   "source": [
    "strawhats.members"
   ]
  },
  {
   "cell_type": "code",
   "execution_count": 29,
   "metadata": {},
   "outputs": [
    {
     "data": {
      "text/plain": [
       "5"
      ]
     },
     "execution_count": 29,
     "metadata": {},
     "output_type": "execute_result"
    }
   ],
   "source": [
    "len(strawhats)"
   ]
  },
  {
   "cell_type": "code",
   "execution_count": 30,
   "metadata": {},
   "outputs": [
    {
     "name": "stdout",
     "output_type": "stream",
     "text": [
      "Straw Hat Pirates with members ['Monkey D. Luffy', 'Nami', 'Roronoa Zoro', 'Sanji', 'Nico Robin']\n"
     ]
    }
   ],
   "source": [
    "print(strawhats)"
   ]
  },
  {
   "cell_type": "code",
   "execution_count": 31,
   "metadata": {},
   "outputs": [
    {
     "data": {
      "text/plain": [
       "5"
      ]
     },
     "execution_count": 31,
     "metadata": {},
     "output_type": "execute_result"
    }
   ],
   "source": [
    "crew.__len__()"
   ]
  },
  {
   "cell_type": "code",
   "execution_count": 32,
   "metadata": {},
   "outputs": [
    {
     "data": {
      "text/plain": [
       "'Roronoa Zoro'"
      ]
     },
     "execution_count": 32,
     "metadata": {},
     "output_type": "execute_result"
    }
   ],
   "source": [
    "crew.__getitem__(2)"
   ]
  },
  {
   "cell_type": "markdown",
   "metadata": {},
   "source": [
    "#### Inheritence"
   ]
  },
  {
   "cell_type": "code",
   "execution_count": 45,
   "metadata": {},
   "outputs": [],
   "source": [
    "class Employee:\n",
    "    def __init__(self, e_id, name):\n",
    "        self.e_id = e_id\n",
    "        self.name = name\n",
    "        "
   ]
  },
  {
   "cell_type": "code",
   "execution_count": 56,
   "metadata": {},
   "outputs": [
    {
     "data": {
      "text/plain": [
       "'100,000,000'"
      ]
     },
     "execution_count": 56,
     "metadata": {},
     "output_type": "execute_result"
    }
   ],
   "source": [
    "class Marine(Employee):\n",
    "    def __init__(self, e_id, name, rank):\n",
    "        super().__init__(e_id, name)\n",
    "        self.rank = rank\n",
    "        \n",
    "    @property\n",
    "    def annual_salary(self):\n",
    "        return \"100,000,000\"\n",
    "\n",
    "akainu = Marine('001', 'Sakazuki', 'Fleet Admiral')\n",
    "akainu.annual_salary"
   ]
  },
  {
   "cell_type": "markdown",
   "metadata": {},
   "source": [
    "#### Class methods and static methods"
   ]
  },
  {
   "cell_type": "markdown",
   "metadata": {},
   "source": [
    " - In addition to class methods, there are two more type of methods.\n",
    "\n",
    "\n",
    " - One that takes the caller's class as the first argument - classmethod, and one that needs nothing as the first argument - staticmethod (doesn't take `self` as argument but can take)."
   ]
  },
  {
   "cell_type": "code",
   "execution_count": null,
   "metadata": {},
   "outputs": [],
   "source": []
  }
 ],
 "metadata": {
  "kernelspec": {
   "display_name": "Python 3",
   "language": "python",
   "name": "python3"
  },
  "language_info": {
   "codemirror_mode": {
    "name": "ipython",
    "version": 3
   },
   "file_extension": ".py",
   "mimetype": "text/x-python",
   "name": "python",
   "nbconvert_exporter": "python",
   "pygments_lexer": "ipython3",
   "version": "3.8.5"
  }
 },
 "nbformat": 4,
 "nbformat_minor": 4
}
