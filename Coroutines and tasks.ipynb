{
 "cells": [
  {
   "cell_type": "markdown",
   "metadata": {},
   "source": [
    "> Coroutines are computer program components that generalize subroutines for non-preemptive(co-operative) multitasking, by allowing execution to be suspended and resumed. Coroutines are well-suited for implementing familiar program components such as cooperative tasks, exceptions, event loops, iterators, infinite lists and pipes.\n",
    "\n",
    "#### There are three main types of awaitable objects: coroutines, Tasks, and Futures."
   ]
  },
  {
   "cell_type": "code",
   "execution_count": 1,
   "metadata": {},
   "outputs": [],
   "source": [
    "import asyncio"
   ]
  },
  {
   "cell_type": "code",
   "execution_count": 18,
   "metadata": {},
   "outputs": [],
   "source": [
    "async def greet_person(person):\n",
    "    await asyncio.sleep(1)\n",
    "    print(f'Sup {person}')"
   ]
  },
  {
   "cell_type": "code",
   "execution_count": 9,
   "metadata": {},
   "outputs": [
    {
     "data": {
      "text/plain": [
       "<coroutine object greet_person at 0x00000236DEB54740>"
      ]
     },
     "execution_count": 9,
     "metadata": {},
     "output_type": "execute_result"
    }
   ],
   "source": [
    "greet_person('Cat')"
   ]
  },
  {
   "cell_type": "markdown",
   "metadata": {},
   "source": [
    "The above result is because `async` creates a wrapper around this function. When the function is called, it returns a coroutine object. To execute this function, we need to create an event loop."
   ]
  },
  {
   "cell_type": "code",
   "execution_count": 10,
   "metadata": {},
   "outputs": [
    {
     "ename": "RuntimeError",
     "evalue": "asyncio.run() cannot be called from a running event loop",
     "output_type": "error",
     "traceback": [
      "\u001b[1;31m---------------------------------------------------------------------------\u001b[0m",
      "\u001b[1;31mRuntimeError\u001b[0m                              Traceback (most recent call last)",
      "\u001b[1;32m<ipython-input-10-330539674057>\u001b[0m in \u001b[0;36m<module>\u001b[1;34m\u001b[0m\n\u001b[1;32m----> 1\u001b[1;33m \u001b[0masyncio\u001b[0m\u001b[1;33m.\u001b[0m\u001b[0mrun\u001b[0m\u001b[1;33m(\u001b[0m\u001b[0mgreet_person\u001b[0m\u001b[1;33m(\u001b[0m\u001b[1;34m'Cat'\u001b[0m\u001b[1;33m)\u001b[0m\u001b[1;33m)\u001b[0m\u001b[1;33m\u001b[0m\u001b[1;33m\u001b[0m\u001b[0m\n\u001b[0m",
      "\u001b[1;32m~\\anaconda3\\lib\\asyncio\\runners.py\u001b[0m in \u001b[0;36mrun\u001b[1;34m(main, debug)\u001b[0m\n\u001b[0;32m     31\u001b[0m     \"\"\"\n\u001b[0;32m     32\u001b[0m     \u001b[1;32mif\u001b[0m \u001b[0mevents\u001b[0m\u001b[1;33m.\u001b[0m\u001b[0m_get_running_loop\u001b[0m\u001b[1;33m(\u001b[0m\u001b[1;33m)\u001b[0m \u001b[1;32mis\u001b[0m \u001b[1;32mnot\u001b[0m \u001b[1;32mNone\u001b[0m\u001b[1;33m:\u001b[0m\u001b[1;33m\u001b[0m\u001b[1;33m\u001b[0m\u001b[0m\n\u001b[1;32m---> 33\u001b[1;33m         raise RuntimeError(\n\u001b[0m\u001b[0;32m     34\u001b[0m             \"asyncio.run() cannot be called from a running event loop\")\n\u001b[0;32m     35\u001b[0m \u001b[1;33m\u001b[0m\u001b[0m\n",
      "\u001b[1;31mRuntimeError\u001b[0m: asyncio.run() cannot be called from a running event loop"
     ]
    }
   ],
   "source": [
    "asyncio.run(greet_person('Cat'))"
   ]
  },
  {
   "cell_type": "markdown",
   "metadata": {},
   "source": [
    " - This function cannot be called when another asyncio event loop is running in the same thread.\n",
    " \n",
    " \n",
    " - Jupyter (IPython ≥ 7.0) is already running an event loop. Therefore, don't need to start the event loop yourself and can instead call `await greet_person('Cat')` directly, even if the code lies outside any asynchronous function."
   ]
  },
  {
   "cell_type": "code",
   "execution_count": 11,
   "metadata": {},
   "outputs": [
    {
     "name": "stdout",
     "output_type": "stream",
     "text": [
      "Sup Cat\n"
     ]
    }
   ],
   "source": [
    "await greet_person('Cat')"
   ]
  },
  {
   "cell_type": "markdown",
   "metadata": {},
   "source": [
    "### Creating tasks for co-operative multitasking\n",
    "\n",
    "Tasks allow us to run pieces of code concurrently"
   ]
  },
  {
   "cell_type": "code",
   "execution_count": 12,
   "metadata": {},
   "outputs": [],
   "source": [
    "async def executor():\n",
    "    print('Start doing some stuff')\n",
    "    asyncio.create_task(greet_person('Cat'))\n",
    "    print('But also continue normal execution')"
   ]
  },
  {
   "cell_type": "code",
   "execution_count": 13,
   "metadata": {},
   "outputs": [
    {
     "name": "stdout",
     "output_type": "stream",
     "text": [
      "Start doing some stuff\n",
      "But also continue normal execution\n",
      "Sup Cat\n"
     ]
    }
   ],
   "source": [
    "await executor()"
   ]
  },
  {
   "cell_type": "code",
   "execution_count": 19,
   "metadata": {},
   "outputs": [],
   "source": [
    "async def blocking_executor():\n",
    "    print('Start doing some stuff')\n",
    "    asyncio.create_task(greet_person('Cat'))\n",
    "    await asyncio.sleep(2)\n",
    "    print('But also continue normal execution')"
   ]
  },
  {
   "cell_type": "code",
   "execution_count": 20,
   "metadata": {},
   "outputs": [
    {
     "name": "stdout",
     "output_type": "stream",
     "text": [
      "Start doing some stuff\n",
      "Sup Cat\n",
      "But also continue normal execution\n"
     ]
    }
   ],
   "source": [
    "await blocking_executor()"
   ]
  },
  {
   "cell_type": "markdown",
   "metadata": {},
   "source": [
    "<hr style=\"height:2px;width:800px\">"
   ]
  },
  {
   "cell_type": "code",
   "execution_count": 30,
   "metadata": {},
   "outputs": [],
   "source": [
    "async def fetch_data():\n",
    "    print('Fetching data')\n",
    "    await asyncio.sleep(1)\n",
    "    print('Requst successful')\n",
    "    return {\"status\": 200, \"msg\": \"Success\"}\n",
    "\n",
    "async def countdown():\n",
    "    for i in range(10):\n",
    "        print(i)\n",
    "        await asyncio.sleep(0.2)\n",
    "    \n",
    "    return \"Success\"\n",
    "        \n",
    "# Tasks\n",
    "async def exec_main():\n",
    "    task1 = asyncio.create_task(fetch_data())\n",
    "    task2 = asyncio.create_task(countdown())\n",
    "    \n",
    "    data = await task1\n",
    "    print(data)\n",
    "    \n",
    "    state = await task2\n",
    "    print(state)\n",
    "    \n",
    "#Futures\n",
    "async def exec_main_all():\n",
    "    # task1 = asyncio.create_task(fetch_data())\n",
    "    # task2 = asyncio.create_task(countdown())\n",
    "    # asyncio.gather(task1, task2)\n",
    "    \n",
    "    val = asyncio.gather(fetch_data(), countdown())\n",
    "    print(val)\n",
    "    \n",
    "    result = await val\n",
    "    print(result)"
   ]
  },
  {
   "cell_type": "markdown",
   "metadata": {},
   "source": [
    " - When we create a task and the coroutine that we pass returns a value, this creates a future (something like Promises in JS) - a placeholder for a value that will exist in future.\n",
    " \n",
    " \n",
    " - A Future is a special low-level awaitable object that represents an eventual result of an asynchronous operation. \n",
    " \n",
    " \n",
    " - When a Future object is awaited it means that the coroutine will wait until the Future is resolved in some other place."
   ]
  },
  {
   "cell_type": "code",
   "execution_count": 25,
   "metadata": {},
   "outputs": [
    {
     "name": "stdout",
     "output_type": "stream",
     "text": [
      "Fetching data\n",
      "0\n",
      "1\n",
      "2\n",
      "3\n",
      "4\n",
      "Requst successful\n",
      "5\n",
      "{'status': 200, 'msg': 'Success'}\n",
      "6\n",
      "7\n",
      "8\n",
      "9\n",
      "Success\n"
     ]
    }
   ],
   "source": [
    "await exec_main()"
   ]
  },
  {
   "cell_type": "code",
   "execution_count": 31,
   "metadata": {},
   "outputs": [
    {
     "name": "stdout",
     "output_type": "stream",
     "text": [
      "<_GatheringFuture pending>\n",
      "Fetching data\n",
      "0\n",
      "1\n",
      "2\n",
      "3\n",
      "4\n",
      "Requst successful\n",
      "5\n",
      "6\n",
      "7\n",
      "8\n",
      "9\n",
      "[{'status': 200, 'msg': 'Success'}, 'Success']\n"
     ]
    }
   ],
   "source": [
    "await exec_main_all()"
   ]
  },
  {
   "cell_type": "code",
   "execution_count": null,
   "metadata": {},
   "outputs": [],
   "source": []
  }
 ],
 "metadata": {
  "kernelspec": {
   "display_name": "Python 3",
   "language": "python",
   "name": "python3"
  },
  "language_info": {
   "codemirror_mode": {
    "name": "ipython",
    "version": 3
   },
   "file_extension": ".py",
   "mimetype": "text/x-python",
   "name": "python",
   "nbconvert_exporter": "python",
   "pygments_lexer": "ipython3",
   "version": "3.8.5"
  }
 },
 "nbformat": 4,
 "nbformat_minor": 4
}
