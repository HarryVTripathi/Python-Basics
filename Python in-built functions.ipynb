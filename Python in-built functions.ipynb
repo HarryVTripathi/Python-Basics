{
 "cells": [
  {
   "cell_type": "code",
   "execution_count": 1,
   "metadata": {},
   "outputs": [
    {
     "data": {
      "text/plain": [
       "3"
      ]
     },
     "execution_count": 1,
     "metadata": {},
     "output_type": "execute_result"
    }
   ],
   "source": [
    "max(1,2,3)"
   ]
  },
  {
   "cell_type": "code",
   "execution_count": 11,
   "metadata": {},
   "outputs": [],
   "source": [
    "class A:\n",
    "    def m1(arr):\n",
    "        print(self.lastInd)\n",
    "        \n",
    "    def m2(self, n, arr):\n",
    "        self.lastInd = n - 1\n",
    "        self.m1(arr)\n",
    "        "
   ]
  },
  {
   "cell_type": "code",
   "execution_count": 12,
   "metadata": {},
   "outputs": [
    {
     "ename": "TypeError",
     "evalue": "m1() takes 1 positional argument but 2 were given",
     "output_type": "error",
     "traceback": [
      "\u001b[1;31m---------------------------------------------------------------------------\u001b[0m",
      "\u001b[1;31mTypeError\u001b[0m                                 Traceback (most recent call last)",
      "\u001b[1;32m<ipython-input-12-2226584ef6e8>\u001b[0m in \u001b[0;36m<module>\u001b[1;34m\u001b[0m\n\u001b[1;32m----> 1\u001b[1;33m \u001b[0mA\u001b[0m\u001b[1;33m(\u001b[0m\u001b[1;33m)\u001b[0m\u001b[1;33m.\u001b[0m\u001b[0mm2\u001b[0m\u001b[1;33m(\u001b[0m\u001b[1;36m4\u001b[0m\u001b[1;33m,\u001b[0m \u001b[1;33m[\u001b[0m\u001b[1;36m1\u001b[0m\u001b[1;33m,\u001b[0m \u001b[1;36m2\u001b[0m\u001b[1;33m,\u001b[0m \u001b[1;36m3\u001b[0m\u001b[1;33m,\u001b[0m \u001b[1;36m4\u001b[0m\u001b[1;33m]\u001b[0m\u001b[1;33m)\u001b[0m\u001b[1;33m\u001b[0m\u001b[1;33m\u001b[0m\u001b[0m\n\u001b[0m",
      "\u001b[1;32m<ipython-input-11-6b2c061ee121>\u001b[0m in \u001b[0;36mm2\u001b[1;34m(self, n, arr)\u001b[0m\n\u001b[0;32m      5\u001b[0m     \u001b[1;32mdef\u001b[0m \u001b[0mm2\u001b[0m\u001b[1;33m(\u001b[0m\u001b[0mself\u001b[0m\u001b[1;33m,\u001b[0m \u001b[0mn\u001b[0m\u001b[1;33m,\u001b[0m \u001b[0marr\u001b[0m\u001b[1;33m)\u001b[0m\u001b[1;33m:\u001b[0m\u001b[1;33m\u001b[0m\u001b[1;33m\u001b[0m\u001b[0m\n\u001b[0;32m      6\u001b[0m         \u001b[0mself\u001b[0m\u001b[1;33m.\u001b[0m\u001b[0mlastInd\u001b[0m \u001b[1;33m=\u001b[0m \u001b[0mn\u001b[0m \u001b[1;33m-\u001b[0m \u001b[1;36m1\u001b[0m\u001b[1;33m\u001b[0m\u001b[1;33m\u001b[0m\u001b[0m\n\u001b[1;32m----> 7\u001b[1;33m         \u001b[0mself\u001b[0m\u001b[1;33m.\u001b[0m\u001b[0mm1\u001b[0m\u001b[1;33m(\u001b[0m\u001b[0marr\u001b[0m\u001b[1;33m)\u001b[0m\u001b[1;33m\u001b[0m\u001b[1;33m\u001b[0m\u001b[0m\n\u001b[0m\u001b[0;32m      8\u001b[0m \u001b[1;33m\u001b[0m\u001b[0m\n",
      "\u001b[1;31mTypeError\u001b[0m: m1() takes 1 positional argument but 2 were given"
     ]
    }
   ],
   "source": [
    "A().m2(4, [1, 2, 3, 4])"
   ]
  },
  {
   "cell_type": "code",
   "execution_count": 102,
   "metadata": {},
   "outputs": [],
   "source": [
    "class B:\n",
    "    #Complete this function\n",
    "    # Function to find the maximum index difference.\n",
    "    def getMaxDiff(self, arr, indDiff):\n",
    "        if (indDiff == 0):\n",
    "            return indDiff\n",
    "\n",
    "        maxIndDiff = 0\n",
    "        for i in range(self.L - (indDiff - 1)):\n",
    "            print(i+indDiff)\n",
    "            print(i)\n",
    "            if arr[i+indDiff] - arr[i] > 0:\n",
    "                maxIndDiff = indDiff\n",
    "    \n",
    "        return maxIndDiff if maxIndDiff > 0 else self.getMaxDiff(arr, indDiff-1)\n",
    "    \n",
    "    def maxIndexDiff(self, arr, n):\n",
    "        self.L = n-1\n",
    "        \n",
    "        return self.getMaxDiff(arr, n-1)"
   ]
  },
  {
   "cell_type": "code",
   "execution_count": 103,
   "metadata": {},
   "outputs": [
    {
     "name": "stdout",
     "output_type": "stream",
     "text": [
      "6\n",
      "0\n",
      "5\n",
      "0\n",
      "6\n",
      "1\n"
     ]
    },
    {
     "data": {
      "text/plain": [
       "5"
      ]
     },
     "execution_count": 103,
     "metadata": {},
     "output_type": "execute_result"
    }
   ],
   "source": [
    "tc1 = ([10, 10, 10, 10, 10, 10, 10, 10, 10, 10, 10, 10], 12)\n",
    "tc2 = ([65, 6, 74, 94, 56, 89, 9, 63, 75, 25, 34, 68, 93, 48, 16], 15)\n",
    "\n",
    "B().maxIndexDiff([82, 63, 44, 74, 82, 99, 82], 7)"
   ]
  },
  {
   "cell_type": "code",
   "execution_count": 61,
   "metadata": {},
   "outputs": [
    {
     "data": {
      "text/plain": [
       "[[0, 0, 0, 0, 0], [0, 0, 0, 0, 0], [0, 0, 0, 0, 0]]"
      ]
     },
     "execution_count": 61,
     "metadata": {},
     "output_type": "execute_result"
    }
   ],
   "source": [
    "n = 5\n",
    "l = [[0 for i in range(n)] for i in range(n)]\n",
    "l[1:4]"
   ]
  },
  {
   "cell_type": "code",
   "execution_count": 44,
   "metadata": {},
   "outputs": [
    {
     "ename": "IndexError",
     "evalue": "list assignment index out of range",
     "output_type": "error",
     "traceback": [
      "\u001b[1;31m---------------------------------------------------------------------------\u001b[0m",
      "\u001b[1;31mIndexError\u001b[0m                                Traceback (most recent call last)",
      "\u001b[1;32m<ipython-input-44-1b11f4bd934b>\u001b[0m in \u001b[0;36m<module>\u001b[1;34m\u001b[0m\n\u001b[1;32m----> 1\u001b[1;33m \u001b[0ml\u001b[0m\u001b[1;33m[\u001b[0m\u001b[1;36m0\u001b[0m\u001b[1;33m]\u001b[0m \u001b[1;33m=\u001b[0m \u001b[1;36m1\u001b[0m\u001b[1;33m\u001b[0m\u001b[1;33m\u001b[0m\u001b[0m\n\u001b[0m",
      "\u001b[1;31mIndexError\u001b[0m: list assignment index out of range"
     ]
    }
   ],
   "source": [
    "l[0] = 1"
   ]
  },
  {
   "cell_type": "code",
   "execution_count": null,
   "metadata": {},
   "outputs": [],
   "source": [
    "class A:\n",
    "    #Complete this function\n",
    "    # Function to find the maximum index difference.\n",
    "    def getMaxDiff(self, arr, start, indDiff):\n",
    "        if (indDiff == 0):\n",
    "            return indDiff\n",
    "        \n",
    "        if (self.memo[indDiff][start] > -1):\n",
    "            return \n",
    "        \n",
    "        print(\"Size: %s, start %s\" %(indDiff, start))\n",
    "\n",
    "        if (arr[start+indDiff] - arr[start] > 0):\n",
    "            return indDiff\n",
    "            \n",
    "        maxIndDiff = 0\n",
    "        for i in range(self.L - (start + indDiff - 1)):\n",
    "            maxIndDiff = max(self.getMaxDiff(arr, start+i, indDiff-1), maxIndDiff)\n",
    "    \n",
    "        self.memo[indDiff][start] = maxIndDiff\n",
    "        return maxIndDiff\n",
    "    \n",
    "    def maxIndexDiff(self, arr, n):\n",
    "        self.L = n-1\n",
    "        self.memo = [[-1 for i in range(n)] for i in range(n)]\n",
    "        \n",
    "        return self.getMaxDiff(arr, 0, n-1)"
   ]
  },
  {
   "cell_type": "code",
   "execution_count": 6,
   "metadata": {},
   "outputs": [],
   "source": [
    "a = 0"
   ]
  },
  {
   "cell_type": "code",
   "execution_count": 10,
   "metadata": {},
   "outputs": [],
   "source": [
    "def swap(array, i, j):\n",
    "    if (i == j):\n",
    "        return\n",
    "    array[i] = array[i] + array[j]\n",
    "    array[j] = array[i] - array[j]\n",
    "    array[i] = array[i] - array[j]\n",
    "\n",
    "def sort012(array):\n",
    "    low = -1\n",
    "    high = len(array)\n",
    "\n",
    "    for i in range(len(array)):\n",
    "        if (array[i] == 0):\n",
    "            low += 1\n",
    "        else:\n",
    "            break\n",
    "\n",
    "    for i in range(len(array)-1, -1, -1):\n",
    "        if (array[i] == 2):\n",
    "            high -= 1\n",
    "        else:\n",
    "            break\n",
    "\n",
    "    print(low, high)\n",
    "\n",
    "    \n",
    "    i = low + 1\n",
    "    while (i < high):\n",
    "        print(array)\n",
    "        if (array[i] == 0):\n",
    "            low += 1\n",
    "            print(\"exch: \" + str(array[low]) + \", \" + str(array[i]))\n",
    "            swap(array, low, i)\n",
    "            \n",
    "            if (low == i):\n",
    "                i += 1\n",
    "            \n",
    "        elif (array[i] == 2):\n",
    "            high -= 1\n",
    "            print(\"exch: \" + str(array[high]) + \", \" + str(array[i]))\n",
    "            swap(array, high, i)\n",
    "            \n",
    "            \n",
    "        else:\n",
    "            i += 1\n",
    "            print(\"\")\n",
    "        \n",
    "        print(i, low, high)\n",
    "\n",
    "            "
   ]
  },
  {
   "cell_type": "code",
   "execution_count": 11,
   "metadata": {},
   "outputs": [
    {
     "name": "stdout",
     "output_type": "stream",
     "text": [
      "16\n",
      "2 15\n",
      "[0, 0, 0, 2, 0, 1, 1, 2, 1, 0, 1, 2, 1, 0, 0, 2]\n",
      "exch: 0, 2\n",
      "3 2 14\n",
      "[0, 0, 0, 0, 0, 1, 1, 2, 1, 0, 1, 2, 1, 0, 2, 2]\n",
      "exch: 0, 0\n",
      "4 3 14\n",
      "[0, 0, 0, 0, 0, 1, 1, 2, 1, 0, 1, 2, 1, 0, 2, 2]\n",
      "exch: 0, 0\n",
      "5 4 14\n",
      "[0, 0, 0, 0, 0, 1, 1, 2, 1, 0, 1, 2, 1, 0, 2, 2]\n",
      "\n",
      "6 4 14\n",
      "[0, 0, 0, 0, 0, 1, 1, 2, 1, 0, 1, 2, 1, 0, 2, 2]\n",
      "\n",
      "7 4 14\n",
      "[0, 0, 0, 0, 0, 1, 1, 2, 1, 0, 1, 2, 1, 0, 2, 2]\n",
      "exch: 0, 2\n",
      "7 4 13\n",
      "[0, 0, 0, 0, 0, 1, 1, 0, 1, 0, 1, 2, 1, 2, 2, 2]\n",
      "exch: 1, 0\n",
      "7 5 13\n",
      "[0, 0, 0, 0, 0, 0, 1, 1, 1, 0, 1, 2, 1, 2, 2, 2]\n",
      "\n",
      "8 5 13\n",
      "[0, 0, 0, 0, 0, 0, 1, 1, 1, 0, 1, 2, 1, 2, 2, 2]\n",
      "\n",
      "9 5 13\n",
      "[0, 0, 0, 0, 0, 0, 1, 1, 1, 0, 1, 2, 1, 2, 2, 2]\n",
      "exch: 1, 0\n",
      "9 6 13\n",
      "[0, 0, 0, 0, 0, 0, 0, 1, 1, 1, 1, 2, 1, 2, 2, 2]\n",
      "\n",
      "10 6 13\n",
      "[0, 0, 0, 0, 0, 0, 0, 1, 1, 1, 1, 2, 1, 2, 2, 2]\n",
      "\n",
      "11 6 13\n",
      "[0, 0, 0, 0, 0, 0, 0, 1, 1, 1, 1, 2, 1, 2, 2, 2]\n",
      "exch: 1, 2\n",
      "11 6 12\n",
      "[0, 0, 0, 0, 0, 0, 0, 1, 1, 1, 1, 1, 2, 2, 2, 2]\n",
      "\n",
      "12 6 12\n"
     ]
    }
   ],
   "source": [
    "array = [0,0,0,2,0,1,1,2,1,0,1,2,1,0,0,2]\n",
    "print(len(array))\n",
    "a = 20\n",
    "b = 40\n",
    "\n",
    "sort012(array)"
   ]
  },
  {
   "cell_type": "code",
   "execution_count": 5,
   "metadata": {},
   "outputs": [
    {
     "name": "stdout",
     "output_type": "stream",
     "text": [
      "14\n"
     ]
    },
    {
     "ename": "NameError",
     "evalue": "name 'threeWayPartition' is not defined",
     "output_type": "error",
     "traceback": [
      "\u001b[1;31m---------------------------------------------------------------------------\u001b[0m",
      "\u001b[1;31mNameError\u001b[0m                                 Traceback (most recent call last)",
      "\u001b[1;32m<ipython-input-5-449c83bbed24>\u001b[0m in \u001b[0;36m<module>\u001b[1;34m\u001b[0m\n\u001b[0;32m      4\u001b[0m \u001b[0mb\u001b[0m \u001b[1;33m=\u001b[0m \u001b[1;36m12\u001b[0m\u001b[1;33m\u001b[0m\u001b[1;33m\u001b[0m\u001b[0m\n\u001b[0;32m      5\u001b[0m \u001b[1;33m\u001b[0m\u001b[0m\n\u001b[1;32m----> 6\u001b[1;33m \u001b[0mthreeWayPartition\u001b[0m\u001b[1;33m(\u001b[0m\u001b[0marray\u001b[0m\u001b[1;33m,\u001b[0m \u001b[0ma\u001b[0m\u001b[1;33m,\u001b[0m \u001b[0mb\u001b[0m\u001b[1;33m)\u001b[0m\u001b[1;33m\u001b[0m\u001b[1;33m\u001b[0m\u001b[0m\n\u001b[0m",
      "\u001b[1;31mNameError\u001b[0m: name 'threeWayPartition' is not defined"
     ]
    }
   ],
   "source": [
    "array = [4,5,7,2,6,8,13,34,12,56,37,15,58,13]\n",
    "print(len(array))\n",
    "a = 5\n",
    "b = 12\n",
    "\n",
    "threeWayPartition(array, a, b)"
   ]
  },
  {
   "cell_type": "code",
   "execution_count": 17,
   "metadata": {},
   "outputs": [
    {
     "data": {
      "text/plain": [
       "'2'"
      ]
     },
     "execution_count": 17,
     "metadata": {},
     "output_type": "execute_result"
    }
   ],
   "source": [
    "str(2)"
   ]
  },
  {
   "cell_type": "code",
   "execution_count": 23,
   "metadata": {},
   "outputs": [],
   "source": [
    "def swap(i, j):\n",
    "    i = i + j\n",
    "    j = i - j\n",
    "    i = i - j\n",
    "    \n",
    "    return (i,j)"
   ]
  },
  {
   "cell_type": "code",
   "execution_count": 26,
   "metadata": {},
   "outputs": [
    {
     "data": {
      "text/plain": [
       "(8, 5)"
      ]
     },
     "execution_count": 26,
     "metadata": {},
     "output_type": "execute_result"
    }
   ],
   "source": [
    "swap(5, 8)"
   ]
  },
  {
   "cell_type": "code",
   "execution_count": 31,
   "metadata": {},
   "outputs": [
    {
     "data": {
      "text/plain": [
       "[65, 6, 74, 94, 56, 89, 9, 63, 0, 25, 34, 68, 93, 48, 16]"
      ]
     },
     "execution_count": 31,
     "metadata": {},
     "output_type": "execute_result"
    }
   ],
   "source": [
    "array = [65, 6, 74, 94, 56, 89, 9, 63, 75, 25, 34, 68, 93, 48, 16]\n",
    "def swap(array, i, j):\n",
    "#     if (i == j):\n",
    "#         return\n",
    "\n",
    "    array[i] = array[i] + array[j]\n",
    "    array[j] = array[i] - array[j]\n",
    "    array[i] = array[i] - array[j]\n",
    "    \n",
    "swap(array, 8, 8)\n",
    "array"
   ]
  },
  {
   "cell_type": "code",
   "execution_count": 1,
   "metadata": {},
   "outputs": [],
   "source": [
    "f = False"
   ]
  },
  {
   "cell_type": "code",
   "execution_count": 2,
   "metadata": {},
   "outputs": [
    {
     "data": {
      "text/plain": [
       "False"
      ]
     },
     "execution_count": 2,
     "metadata": {},
     "output_type": "execute_result"
    }
   ],
   "source": [
    "f"
   ]
  },
  {
   "cell_type": "code",
   "execution_count": 4,
   "metadata": {},
   "outputs": [
    {
     "data": {
      "text/plain": [
       "True"
      ]
     },
     "execution_count": 4,
     "metadata": {},
     "output_type": "execute_result"
    }
   ],
   "source": [
    "not f"
   ]
  },
  {
   "cell_type": "code",
   "execution_count": 109,
   "metadata": {},
   "outputs": [],
   "source": [
    "class Solution:\n",
    "\n",
    "# Function to find maximum\n",
    "# product subarray\n",
    "    def maxProduct(self,arr, n):\n",
    "        maxProd = -10000000\n",
    "        intervalLastProd = -10000000\n",
    "        intervalProd = 1\n",
    "        firstNeg = False\n",
    "        firstNegProd = 1\n",
    "        lastPosProd = 1\n",
    "        arr.append(1)\n",
    "\n",
    "        for i in range(n+1):\n",
    "            if arr[i] == 0 or i == n:\n",
    "                if intervalProd < 0:\n",
    "                    intervalLastProd = max(lastPosProd, (intervalProd/firstNegProd))\n",
    "                    print(\"last intervalProd\", intervalProd)\n",
    "                    \n",
    "\n",
    "                intervalProd = 1\n",
    "                firstNeg = False\n",
    "                firstNegProd = 1\n",
    "                lastPosProd = 1\n",
    "            else:\n",
    "                if intervalProd < 0 and (not firstNeg):\n",
    "                    firstNegProd = intervalProd\n",
    "                    firstNeg = True\n",
    "                if intervalProd > 0:\n",
    "                    lastPosProd = intervalProd\n",
    "                intervalProd = intervalProd * arr[i]\n",
    "\n",
    "            maxProd = max(intervalProd, maxProd, intervalLastProd)\n",
    "            print(\"maxProd\", maxProd)\n",
    "\n",
    "#         maxProd = max(maxProd, lastPosProd, (intervalProd/firstNegProd))\n",
    "        return maxProd"
   ]
  },
  {
   "cell_type": "code",
   "execution_count": 63,
   "metadata": {},
   "outputs": [
    {
     "name": "stdout",
     "output_type": "stream",
     "text": [
      "maxProd 1\n",
      "maxProd 3\n",
      "maxProd 12\n",
      "maxProd 60\n",
      "maxProd 60\n",
      "maxProd 60\n",
      "maxProd 60\n",
      "maxProd 60\n",
      "maxProd 100800\n",
      "maxProd 100800\n",
      "maxProd 302400\n",
      "maxProd 1209600\n",
      "maxProd 1209600\n",
      "maxProd 1209600\n",
      "maxProd 1209600\n",
      "maxProd 1209600\n",
      "maxProd 1209600\n",
      "last intervalProd -4790016000\n",
      "maxProd 7983360.0\n"
     ]
    },
    {
     "data": {
      "text/plain": [
       "7983360.0"
      ]
     },
     "execution_count": 63,
     "metadata": {},
     "output_type": "execute_result"
    }
   ],
   "source": [
    "l = 17\n",
    "arr = [1, 3, 4, 5, -10, 6, 2, 7, -2, 1, 3, 4, 1, -5, 8, 9, 11]\n",
    "arr2 = [-1, -3, -4, -5, -10, 6, 0, 7, -2, 1, 3, 0, 1, -5, 8, 9, 11]\n",
    "arr3 = [1 2 3 5 -5 2 3 1 9 -10]\n",
    "Solution().maxProduct(arr, l)"
   ]
  },
  {
   "cell_type": "code",
   "execution_count": 113,
   "metadata": {},
   "outputs": [],
   "source": [
    "class Solution:\n",
    "    def getIntervals(self, arr, n):\n",
    "        intervals = [0]\n",
    "        for i in range(n):\n",
    "            if arr[i] == 0:\n",
    "                intervals.append(i)\n",
    "        \n",
    "        intervals.append(n)\n",
    "        return intervals\n",
    "    \n",
    "    def getMaxProductInterval(self, arr, start, end):\n",
    "        maxIntervalProd = -10000000\n",
    "        intervalProd = 1\n",
    "        firstNeg = False\n",
    "        firstNegProd = 1\n",
    "        lastPosProd = 1\n",
    "\n",
    "        for i in range(start, end):                    \n",
    "            if intervalProd < 0:\n",
    "                if not firstNeg:\n",
    "                    firstNegProd = intervalProd\n",
    "                    firstNeg = True\n",
    "            else:\n",
    "                lastPosProd = intervalProd\n",
    "            intervalProd = intervalProd * arr[i]\n",
    "\n",
    "            maxIntervalProd = max(intervalProd, maxIntervalProd)\n",
    "        \n",
    "        maxIntervalProd = max(maxIntervalProd, lastPosProd, (intervalProd/firstNegProd))\n",
    "        return maxIntervalProd\n",
    "    \n",
    "    def maxProduct2(self, arr, n):\n",
    "        maxProd = -10000000\n",
    "        intervals = self.getIntervals(arr, n)\n",
    "        \n",
    "        print(intervals)\n",
    "        \n",
    "        for i in range(len(intervals)-1):\n",
    "            start = intervals[i]\n",
    "            end = intervals[i+1]\n",
    "            intervalProd = self.getMaxProductInterval(arr, start, end)\n",
    "            maxProd = max(maxProd, intervalProd)\n",
    "        \n",
    "        return int(maxProd)"
   ]
  },
  {
   "cell_type": "code",
   "execution_count": 104,
   "metadata": {},
   "outputs": [
    {
     "name": "stdout",
     "output_type": "stream",
     "text": [
      "[0, 6, 11, 17]\n"
     ]
    },
    {
     "data": {
      "text/plain": [
       "3600"
      ]
     },
     "execution_count": 104,
     "metadata": {},
     "output_type": "execute_result"
    }
   ],
   "source": [
    "Solution().maxProduct2([-1, -3, -4, -5, -10, 6, 0, 7, -2, 1, 3, 0, 1, -5, 8, 9, 11], 17)"
   ]
  },
  {
   "cell_type": "code",
   "execution_count": 105,
   "metadata": {},
   "outputs": [
    {
     "name": "stdout",
     "output_type": "stream",
     "text": [
      "[0, 17]\n"
     ]
    },
    {
     "data": {
      "text/plain": [
       "7983360"
      ]
     },
     "execution_count": 105,
     "metadata": {},
     "output_type": "execute_result"
    }
   ],
   "source": [
    "Solution().maxProduct2([1, 3, 4, 5, -10, 6, 2, 7, -2, 1, 3, 4, 1, -5, 8, 9, 11], 17)"
   ]
  },
  {
   "cell_type": "code",
   "execution_count": 106,
   "metadata": {},
   "outputs": [
    {
     "name": "stdout",
     "output_type": "stream",
     "text": [
      "[0, 1]\n"
     ]
    },
    {
     "data": {
      "text/plain": [
       "1"
      ]
     },
     "execution_count": 106,
     "metadata": {},
     "output_type": "execute_result"
    }
   ],
   "source": [
    "Solution().maxProduct2([-14], 1)"
   ]
  },
  {
   "cell_type": "code",
   "execution_count": 107,
   "metadata": {},
   "outputs": [],
   "source": [
    "l = 46\n",
    "arr = [2, -2, 1, 2, 4, -4, 2, 2, -2, 1, -1, -1, 0, -2, -1, -1, 1, 1, -1, 1, 3, -3, 3, -5, 3, -5, 3, -3, 3, -3, 1, 3, 3, 4, -6, 6, 7, 7, 9, -9, 7, 9, -9, 7, -7, 7]"
   ]
  },
  {
   "cell_type": "code",
   "execution_count": 114,
   "metadata": {},
   "outputs": [
    {
     "name": "stdout",
     "output_type": "stream",
     "text": [
      "[0, 12, 46]\n"
     ]
    },
    {
     "data": {
      "text/plain": [
       "1024"
      ]
     },
     "execution_count": 114,
     "metadata": {},
     "output_type": "execute_result"
    }
   ],
   "source": [
    "Solution().maxProduct2(arr, l)"
   ]
  },
  {
   "cell_type": "code",
   "execution_count": null,
   "metadata": {},
   "outputs": [],
   "source": []
  }
 ],
 "metadata": {
  "kernelspec": {
   "display_name": "Python 3",
   "language": "python",
   "name": "python3"
  },
  "language_info": {
   "codemirror_mode": {
    "name": "ipython",
    "version": 3
   },
   "file_extension": ".py",
   "mimetype": "text/x-python",
   "name": "python",
   "nbconvert_exporter": "python",
   "pygments_lexer": "ipython3",
   "version": "3.8.5"
  }
 },
 "nbformat": 4,
 "nbformat_minor": 4
}
