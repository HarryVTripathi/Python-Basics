{
 "cells": [
  {
   "cell_type": "code",
   "execution_count": null,
   "metadata": {},
   "outputs": [],
   "source": []
  },
  {
   "cell_type": "markdown",
   "metadata": {},
   "source": [
    "`database.py`"
   ]
  },
  {
   "cell_type": "code",
   "execution_count": 2,
   "metadata": {},
   "outputs": [],
   "source": [
    "class Database:\n",
    "    content = {'users': []}\n",
    "\n",
    "    @classmethod\n",
    "    def insert(cls, data):\n",
    "        cls.content['users'].append(data)\n",
    "    \n",
    "    @classmethod\n",
    "    def remove(cls, finder):\n",
    "        cls.content['users'] = [user for user in cls.content['users'] if not finder(user)]\n",
    "    \n",
    "    @classmethod\n",
    "    def find(cls, finder):\n",
    "        return [user for user in cls.content['users'] if finder(user)]"
   ]
  },
  {
   "cell_type": "markdown",
   "metadata": {},
   "source": [
    "`Saveable.py`"
   ]
  },
  {
   "cell_type": "code",
   "execution_count": 5,
   "metadata": {},
   "outputs": [],
   "source": [
    "class Saveable:\n",
    "    def save(self):\n",
    "        Database.insert(self.to_dict())"
   ]
  },
  {
   "cell_type": "markdown",
   "metadata": {},
   "source": [
    "`User.py`"
   ]
  },
  {
   "cell_type": "code",
   "execution_count": 6,
   "metadata": {},
   "outputs": [],
   "source": [
    "class User:\n",
    "    def __init__(self, username, password):\n",
    "        self.username = username\n",
    "        self.password = password\n",
    "    \n",
    "    def login(self):\n",
    "        return 'Logged in!'\n",
    "    \n",
    "    def __repr__(self):\n",
    "        return f'<User {self.username}>'"
   ]
  },
  {
   "cell_type": "markdown",
   "metadata": {},
   "source": [
    "`admin.py`"
   ]
  },
  {
   "cell_type": "markdown",
   "metadata": {},
   "source": [
    "When we call self.save, it goes to `User` class, tries to find that method, and if it doesn't exist in `User`, then it goes to `Saveable`, and it tries to find it there. So it's gonna find `self.save` inside `Saveable` superclass,"
   ]
  },
  {
   "cell_type": "code",
   "execution_count": 8,
   "metadata": {},
   "outputs": [],
   "source": [
    "class Admin(User, Saveable):\n",
    "    def __init__(self, username, password, access):\n",
    "        super(Admin, self).__init__(username, password)\n",
    "        self.access = access\n",
    "    \n",
    "    def __repr__(self):\n",
    "        return f'<Admin {self.username}, access {self.access}>'\n",
    "\n",
    "    def to_dict(self):\n",
    "        return {\n",
    "            'username': self.username,\n",
    "            'password': self.password,\n",
    "            'access': self.access\n",
    "        }"
   ]
  },
  {
   "cell_type": "markdown",
   "metadata": {},
   "source": [
    "`self.save` will be searched in `Admin`, then in `User`, then in `Saveable`. Where it will be found. `self.save` uses `self.to_dict`, and again `self.to_dict` will be searched for in `Admin`, where it will be found."
   ]
  },
  {
   "cell_type": "code",
   "execution_count": null,
   "metadata": {},
   "outputs": [],
   "source": [
    "class Salary:\n",
    "    def calculate(self, working_hours):\n",
    "        return self.rate * working_hours\n",
    "\n",
    "\n",
    "class Promotable:\n",
    "    def promote(self, amount):\n",
    "        self.rate += amount\n",
    "    \n",
    "\n",
    "class Employee(Salary, Promotable):\n",
    "    def __init__(self, rate: float):\n",
    "        self.rate = rate\n",
    "\n",
    "    def weekly_salary(self) -> float:\n",
    "        return self.calculate(40)"
   ]
  },
  {
   "cell_type": "markdown",
   "metadata": {},
   "source": [
    "### ABC\n",
    "\n",
    "- Let you define some functionality without implementing it."
   ]
  },
  {
   "cell_type": "code",
   "execution_count": 9,
   "metadata": {},
   "outputs": [],
   "source": [
    "  \n",
    "from abc import ABCMeta, abstractmethod\n",
    "\n",
    "class Animal(metaclass=ABCMeta):\n",
    "    def __init__(self, name):\n",
    "        self.name = name\n",
    "        \n",
    "    def walk(self):\n",
    "        print('Walking...')\n",
    "    \n",
    "    def eat(self):\n",
    "        print('Eating...')\n",
    "    \n",
    "    @abstractmethod\n",
    "    def num_legs():\n",
    "        pass"
   ]
  },
  {
   "cell_type": "code",
   "execution_count": null,
   "metadata": {},
   "outputs": [],
   "source": []
  }
 ],
 "metadata": {
  "kernelspec": {
   "display_name": "Python 3",
   "language": "python",
   "name": "python3"
  },
  "language_info": {
   "codemirror_mode": {
    "name": "ipython",
    "version": 3
   },
   "file_extension": ".py",
   "mimetype": "text/x-python",
   "name": "python",
   "nbconvert_exporter": "python",
   "pygments_lexer": "ipython3",
   "version": "3.8.5"
  }
 },
 "nbformat": 4,
 "nbformat_minor": 4
}
