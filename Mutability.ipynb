{
 "cells": [
  {
   "cell_type": "markdown",
   "metadata": {},
   "source": [
    "A mutable pice of data is one that you can change after you've created it. An immutable piece of data is one you cannot change."
   ]
  },
  {
   "cell_type": "code",
   "execution_count": 30,
   "metadata": {},
   "outputs": [],
   "source": [
    "d = {\n",
    "    \"kiai\": 180,\n",
    "    \"Cindy\": 176\n",
    "}"
   ]
  },
  {
   "cell_type": "code",
   "execution_count": 31,
   "metadata": {},
   "outputs": [
    {
     "data": {
      "text/plain": [
       "2081186587520"
      ]
     },
     "execution_count": 31,
     "metadata": {},
     "output_type": "execute_result"
    }
   ],
   "source": [
    "id(d)"
   ]
  },
  {
   "cell_type": "code",
   "execution_count": 32,
   "metadata": {},
   "outputs": [],
   "source": [
    "d = {\n",
    "    \"kiai\": 180,\n",
    "    \"Cindy\": 176\n",
    "}"
   ]
  },
  {
   "cell_type": "code",
   "execution_count": 33,
   "metadata": {},
   "outputs": [],
   "source": [
    "old = id(d)"
   ]
  },
  {
   "cell_type": "markdown",
   "metadata": {},
   "source": [
    "Python can give us the ID of the object. The `id` function is used to give us the ID of any object. The ID is the address of the object in memory. And that's precisely the first cell in a group of cells in your RAM which stores your object. \n",
    "\n",
    "The `id` function gives us the first cell in the group. That's because the object can take up multiple cells and they normally do.\n",
    "\n",
    "```python\n",
    "d = {\n",
    "    \"kiai\": 180,\n",
    "    \"Cindy\": 176\n",
    "}\n",
    "```\n",
    "\n",
    "Now when we say friends last seen is now this dictionary, which looks the same but is an entirely new dictionary. And one can tell that by once again calling the friends last seen function, the ID. Note that these two numbers are very slightly different. That's because these objects are not the same object. They are two objects which have the same content.\n",
    "\n",
    "So even though the dictionaries have the same values, the ID values are different. New dictionaries were created each time and hence their memory addresses, what the `id` function returns, are different."
   ]
  },
  {
   "cell_type": "code",
   "execution_count": 34,
   "metadata": {},
   "outputs": [],
   "source": [
    "d[\"Cindy\"] = 177 # d.__setitem__(self, 177)\n",
    "\n",
    "\"\"\"\n",
    "The set item function is not creating a new dictionary, it is modifying self. \n",
    "That is why it mutates the data, it does not recreate it.\n",
    "\"\"\" \n",
    "\n",
    "new = id(d)"
   ]
  },
  {
   "cell_type": "code",
   "execution_count": 35,
   "metadata": {},
   "outputs": [
    {
     "data": {
      "text/plain": [
       "True"
      ]
     },
     "execution_count": 35,
     "metadata": {},
     "output_type": "execute_result"
    }
   ],
   "source": [
    "old == new"
   ]
  },
  {
   "cell_type": "markdown",
   "metadata": {},
   "source": [
    "As we can see, the `new` and old `here` are identical. That's because when we have modified this object. We have not created a new object, we have mutated it. This is a mutable data structure, the dictionary."
   ]
  },
  {
   "cell_type": "markdown",
   "metadata": {},
   "source": [
    "#### However, there are a few immutable things in Python. Integers, for example, are immutable.\n",
    "\n",
    " - String\n",
    " \n",
    " - Float\n",
    " \n",
    " - Tuple"
   ]
  },
  {
   "cell_type": "code",
   "execution_count": 36,
   "metadata": {},
   "outputs": [
    {
     "data": {
      "text/plain": [
       "140730326263712"
      ]
     },
     "execution_count": 36,
     "metadata": {},
     "output_type": "execute_result"
    }
   ],
   "source": [
    "i = 5\n",
    "id(i)"
   ]
  },
  {
   "cell_type": "code",
   "execution_count": 37,
   "metadata": {},
   "outputs": [
    {
     "data": {
      "text/plain": [
       "140730326263744"
      ]
     },
     "execution_count": 37,
     "metadata": {},
     "output_type": "execute_result"
    }
   ],
   "source": [
    "i += 1 # i.__add__(self, 1) => Returns a new integer object.\n",
    "id(i)"
   ]
  },
  {
   "cell_type": "markdown",
   "metadata": {},
   "source": [
    "All functions of integers return new int objects. We cannot change existing int objects. \n",
    "\n",
    "We never modify existing objects, we only create new objects. This is the concept of immutability"
   ]
  },
  {
   "cell_type": "code",
   "execution_count": 38,
   "metadata": {},
   "outputs": [
    {
     "name": "stdout",
     "output_type": "stream",
     "text": [
      "{'kiai': 180, 'Cindy': 177, 'Brooke': 183}\n",
      "2081168943616\n",
      "140730326269408\n",
      "{'kiai': 180, 'Cindy': 177, 'Brooke': 188}\n",
      "2081168943616\n",
      "140730326269568\n"
     ]
    }
   ],
   "source": [
    "d['Brooke'] = 183\n",
    "\n",
    "def updateHt(model, name, ht):\n",
    "    model[name] = ht\n",
    "    \n",
    "d_copy = d\n",
    "print(d_copy)\n",
    "print(id(d))\n",
    "print(id(d['Brooke']))\n",
    "\n",
    "updateHt(d, 'Brooke', 188)\n",
    "\n",
    "print(d_copy) # d_copy has updated too.\n",
    "print(id(d))\n",
    "print(id(d['Brooke']))"
   ]
  },
  {
   "cell_type": "markdown",
   "metadata": {},
   "source": [
    "#### Comparision vs `is`\n",
    "\n",
    "The `==` compares the contents. So if there were two distinct dictionaries with the same contents, this would return true. But `is` compares the ids. So it's gonna tell us if they are exactly the same object."
   ]
  },
  {
   "cell_type": "code",
   "execution_count": 39,
   "metadata": {},
   "outputs": [],
   "source": [
    "d_copy = dict(d)"
   ]
  },
  {
   "cell_type": "code",
   "execution_count": 40,
   "metadata": {},
   "outputs": [
    {
     "data": {
      "text/plain": [
       "True"
      ]
     },
     "execution_count": 40,
     "metadata": {},
     "output_type": "execute_result"
    }
   ],
   "source": [
    "d_copy == d"
   ]
  },
  {
   "cell_type": "code",
   "execution_count": 41,
   "metadata": {},
   "outputs": [
    {
     "data": {
      "text/plain": [
       "False"
      ]
     },
     "execution_count": 41,
     "metadata": {},
     "output_type": "execute_result"
    }
   ],
   "source": [
    "d_copy is d"
   ]
  },
  {
   "cell_type": "code",
   "execution_count": 42,
   "metadata": {},
   "outputs": [
    {
     "name": "stdout",
     "output_type": "stream",
     "text": [
      "140730326264224\n",
      "Id of local age: 140730326264256\n",
      "140730326264224\n"
     ]
    }
   ],
   "source": [
    "age = 21\n",
    "\n",
    "def increase_age(age):\n",
    "    \"\"\"\n",
    "    Immutable objects will change only within function. \n",
    "    \"\"\"\n",
    "    age += 1\n",
    "    print(f'Id of local age: {id(age)}')\n",
    "    \n",
    "print(id(age))\n",
    "increase_age(age)\n",
    "print(id(age))"
   ]
  },
  {
   "cell_type": "markdown",
   "metadata": {},
   "source": [
    "> When we pass something to a function, that we can potentially mutate that thing, and then the value outside the function will have changed too. Unless the thing we pass with the function is immutable, in which case, when we try to change it, it won't have changed outside the function only inside."
   ]
  },
  {
   "cell_type": "markdown",
   "metadata": {},
   "source": [
    "#### Default values for parameters"
   ]
  },
  {
   "cell_type": "code",
   "execution_count": 43,
   "metadata": {},
   "outputs": [],
   "source": [
    "def grow(name: str, pgross: int = 10) -> float:\n",
    "    d[name] += (d[name] * 10)/100\n",
    "    d[name]"
   ]
  },
  {
   "cell_type": "code",
   "execution_count": 44,
   "metadata": {},
   "outputs": [
    {
     "data": {
      "text/plain": [
       "{'kiai': 198.0, 'Cindy': 177, 'Brooke': 188}"
      ]
     },
     "execution_count": 44,
     "metadata": {},
     "output_type": "execute_result"
    }
   ],
   "source": [
    "grow('kiai', 5)\n",
    "d"
   ]
  },
  {
   "cell_type": "markdown",
   "metadata": {},
   "source": [
    "> Mutable default arguments, it's a terrible idea. A common pitfall in Python that we definitely want to avoid"
   ]
  },
  {
   "cell_type": "code",
   "execution_count": 47,
   "metadata": {},
   "outputs": [
    {
     "data": {
      "text/plain": [
       "[{'name': 'Jen', 'age': 22}]"
      ]
     },
     "execution_count": 47,
     "metadata": {},
     "output_type": "execute_result"
    }
   ],
   "source": [
    "def create_model(name, age, models=[]):\n",
    "    models.append({ 'name': name, 'age': age })\n",
    "    # The default list get created in local memoy of function, when the function gets created.\n",
    "    # It exists hereafter and keeps on appending in each call.\n",
    "    return models\n",
    "\n",
    "create_model('Jen', 22)"
   ]
  },
  {
   "cell_type": "code",
   "execution_count": 48,
   "metadata": {},
   "outputs": [
    {
     "data": {
      "text/plain": [
       "[{'name': 'Jen', 'age': 22}, {'name': 'Kasha', 'age': 19}]"
      ]
     },
     "execution_count": 48,
     "metadata": {},
     "output_type": "execute_result"
    }
   ],
   "source": [
    "create_model('Kasha', 19)"
   ]
  },
  {
   "cell_type": "markdown",
   "metadata": {},
   "source": [
    "> The default parameter for the `create_model` function gets evaluated when the function is *defined*, not when the function is called. So this `list` here and what this parameter `models` points to by default is this `[]` object. So `[]` gets created when the function gets created, not when the function is called."
   ]
  },
  {
   "cell_type": "markdown",
   "metadata": {},
   "source": [
    "#### Argument unpacking"
   ]
  },
  {
   "cell_type": "markdown",
   "metadata": {},
   "source": [
    "Unpack an iterable in to arguments."
   ]
  },
  {
   "cell_type": "code",
   "execution_count": 59,
   "metadata": {},
   "outputs": [],
   "source": [
    "models = [\n",
    "    ('Kaia', 18, 180),\n",
    "    ('Yekatrina', 28, 206),\n",
    "    ('Cindy', 48, 176),\n",
    "    ('Ashara', 42, 236)\n",
    "]\n",
    "\n",
    "d = dict()\n",
    "model_details = list()\n",
    "\n",
    "def getDetails(name, age, height):\n",
    "    return { 'name': name, 'age': age, 'height': height }\n",
    "\n",
    "def express_details(name, age, height):\n",
    "    return f'{name} is {age} years old and stands {height} cm tall'\n"
   ]
  },
  {
   "cell_type": "code",
   "execution_count": 60,
   "metadata": {},
   "outputs": [
    {
     "data": {
      "text/plain": [
       "[{'name': 'Kaia', 'age': 18, 'height': 180},\n",
       " {'name': 'Yekatrina', 'age': 28, 'height': 206},\n",
       " {'name': 'Cindy', 'age': 48, 'height': 176},\n",
       " {'name': 'Ashara', 'age': 42, 'height': 236}]"
      ]
     },
     "execution_count": 60,
     "metadata": {},
     "output_type": "execute_result"
    }
   ],
   "source": [
    "for model in models:\n",
    "    model_details.append(getDetails(*model))\n",
    "\n",
    "model_details"
   ]
  },
  {
   "cell_type": "markdown",
   "metadata": {},
   "source": [
    "#### Unpacking with dictionaries - named arguments to functions"
   ]
  },
  {
   "cell_type": "code",
   "execution_count": 61,
   "metadata": {},
   "outputs": [
    {
     "data": {
      "text/plain": [
       "['Kaia is 18 years old and stands 180 cm tall',\n",
       " 'Yekatrina is 28 years old and stands 206 cm tall',\n",
       " 'Cindy is 48 years old and stands 176 cm tall',\n",
       " 'Ashara is 42 years old and stands 236 cm tall']"
      ]
     },
     "execution_count": 61,
     "metadata": {},
     "output_type": "execute_result"
    }
   ],
   "source": [
    "[express_details(**model_detail) for model_detail in model_details]"
   ]
  },
  {
   "cell_type": "code",
   "execution_count": null,
   "metadata": {},
   "outputs": [],
   "source": []
  }
 ],
 "metadata": {
  "kernelspec": {
   "display_name": "Python 3",
   "language": "python",
   "name": "python3"
  },
  "language_info": {
   "codemirror_mode": {
    "name": "ipython",
    "version": 3
   },
   "file_extension": ".py",
   "mimetype": "text/x-python",
   "name": "python",
   "nbconvert_exporter": "python",
   "pygments_lexer": "ipython3",
   "version": "3.8.5"
  }
 },
 "nbformat": 4,
 "nbformat_minor": 4
}
